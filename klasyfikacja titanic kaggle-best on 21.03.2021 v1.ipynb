{
 "cells": [
  {
   "cell_type": "code",
   "execution_count": 415,
   "metadata": {},
   "outputs": [],
   "source": [
    "import pandas as pd, numpy as np\n",
    "from xgboost import XGBClassifier\n",
    "from sklearn.model_selection import train_test_split\n",
    "from sklearn.metrics import accuracy_score\n",
    "from matplotlib import pyplot as plt\n",
    "import sklearn\n",
    "from sklearn.linear_model import LogisticRegression\n",
    "import dython\n",
    "from sklearn.metrics import precision_score, recall_score, accuracy_score, f1_score, confusion_matrix\n",
    "from sklearn import tree\n",
    "from sklearn.tree import DecisionTreeClassifier\n",
    "from sklearn.model_selection import GridSearchCV\n",
    "from sklearn.ensemble import RandomForestClassifier\n",
    "from sklearn import tree"
   ]
  },
  {
   "cell_type": "code",
   "execution_count": 416,
   "metadata": {},
   "outputs": [],
   "source": [
    "train = pd.read_csv('titanic_train.csv')\n",
    "test_fin = pd.read_csv('titanic_test.csv')"
   ]
  },
  {
   "cell_type": "code",
   "execution_count": 417,
   "metadata": {},
   "outputs": [
    {
     "data": {
      "text/html": [
       "<div>\n",
       "<style scoped>\n",
       "    .dataframe tbody tr th:only-of-type {\n",
       "        vertical-align: middle;\n",
       "    }\n",
       "\n",
       "    .dataframe tbody tr th {\n",
       "        vertical-align: top;\n",
       "    }\n",
       "\n",
       "    .dataframe thead th {\n",
       "        text-align: right;\n",
       "    }\n",
       "</style>\n",
       "<table border=\"1\" class=\"dataframe\">\n",
       "  <thead>\n",
       "    <tr style=\"text-align: right;\">\n",
       "      <th></th>\n",
       "      <th>PassengerId</th>\n",
       "      <th>Survived</th>\n",
       "      <th>Pclass</th>\n",
       "      <th>Name</th>\n",
       "      <th>Sex</th>\n",
       "      <th>Age</th>\n",
       "      <th>SibSp</th>\n",
       "      <th>Parch</th>\n",
       "      <th>Ticket</th>\n",
       "      <th>Fare</th>\n",
       "      <th>Cabin</th>\n",
       "      <th>Embarked</th>\n",
       "    </tr>\n",
       "  </thead>\n",
       "  <tbody>\n",
       "    <tr>\n",
       "      <th>0</th>\n",
       "      <td>1</td>\n",
       "      <td>0</td>\n",
       "      <td>3</td>\n",
       "      <td>Braund, Mr. Owen Harris</td>\n",
       "      <td>male</td>\n",
       "      <td>22.0</td>\n",
       "      <td>1</td>\n",
       "      <td>0</td>\n",
       "      <td>A/5 21171</td>\n",
       "      <td>7.2500</td>\n",
       "      <td>NaN</td>\n",
       "      <td>S</td>\n",
       "    </tr>\n",
       "    <tr>\n",
       "      <th>1</th>\n",
       "      <td>2</td>\n",
       "      <td>1</td>\n",
       "      <td>1</td>\n",
       "      <td>Cumings, Mrs. John Bradley (Florence Briggs Th...</td>\n",
       "      <td>female</td>\n",
       "      <td>38.0</td>\n",
       "      <td>1</td>\n",
       "      <td>0</td>\n",
       "      <td>PC 17599</td>\n",
       "      <td>71.2833</td>\n",
       "      <td>C85</td>\n",
       "      <td>C</td>\n",
       "    </tr>\n",
       "    <tr>\n",
       "      <th>2</th>\n",
       "      <td>3</td>\n",
       "      <td>1</td>\n",
       "      <td>3</td>\n",
       "      <td>Heikkinen, Miss. Laina</td>\n",
       "      <td>female</td>\n",
       "      <td>26.0</td>\n",
       "      <td>0</td>\n",
       "      <td>0</td>\n",
       "      <td>STON/O2. 3101282</td>\n",
       "      <td>7.9250</td>\n",
       "      <td>NaN</td>\n",
       "      <td>S</td>\n",
       "    </tr>\n",
       "    <tr>\n",
       "      <th>3</th>\n",
       "      <td>4</td>\n",
       "      <td>1</td>\n",
       "      <td>1</td>\n",
       "      <td>Futrelle, Mrs. Jacques Heath (Lily May Peel)</td>\n",
       "      <td>female</td>\n",
       "      <td>35.0</td>\n",
       "      <td>1</td>\n",
       "      <td>0</td>\n",
       "      <td>113803</td>\n",
       "      <td>53.1000</td>\n",
       "      <td>C123</td>\n",
       "      <td>S</td>\n",
       "    </tr>\n",
       "    <tr>\n",
       "      <th>4</th>\n",
       "      <td>5</td>\n",
       "      <td>0</td>\n",
       "      <td>3</td>\n",
       "      <td>Allen, Mr. William Henry</td>\n",
       "      <td>male</td>\n",
       "      <td>35.0</td>\n",
       "      <td>0</td>\n",
       "      <td>0</td>\n",
       "      <td>373450</td>\n",
       "      <td>8.0500</td>\n",
       "      <td>NaN</td>\n",
       "      <td>S</td>\n",
       "    </tr>\n",
       "  </tbody>\n",
       "</table>\n",
       "</div>"
      ],
      "text/plain": [
       "   PassengerId  Survived  Pclass  \\\n",
       "0            1         0       3   \n",
       "1            2         1       1   \n",
       "2            3         1       3   \n",
       "3            4         1       1   \n",
       "4            5         0       3   \n",
       "\n",
       "                                                Name     Sex   Age  SibSp  \\\n",
       "0                            Braund, Mr. Owen Harris    male  22.0      1   \n",
       "1  Cumings, Mrs. John Bradley (Florence Briggs Th...  female  38.0      1   \n",
       "2                             Heikkinen, Miss. Laina  female  26.0      0   \n",
       "3       Futrelle, Mrs. Jacques Heath (Lily May Peel)  female  35.0      1   \n",
       "4                           Allen, Mr. William Henry    male  35.0      0   \n",
       "\n",
       "   Parch            Ticket     Fare Cabin Embarked  \n",
       "0      0         A/5 21171   7.2500   NaN        S  \n",
       "1      0          PC 17599  71.2833   C85        C  \n",
       "2      0  STON/O2. 3101282   7.9250   NaN        S  \n",
       "3      0            113803  53.1000  C123        S  \n",
       "4      0            373450   8.0500   NaN        S  "
      ]
     },
     "execution_count": 417,
     "metadata": {},
     "output_type": "execute_result"
    }
   ],
   "source": [
    "train.head()"
   ]
  },
  {
   "cell_type": "code",
   "execution_count": 418,
   "metadata": {},
   "outputs": [],
   "source": [
    "cols = list(train.columns)"
   ]
  },
  {
   "cell_type": "code",
   "execution_count": 419,
   "metadata": {},
   "outputs": [
    {
     "data": {
      "text/plain": [
       "['PassengerId',\n",
       " 'Survived',\n",
       " 'Pclass',\n",
       " 'Name',\n",
       " 'Sex',\n",
       " 'Age',\n",
       " 'SibSp',\n",
       " 'Parch',\n",
       " 'Ticket',\n",
       " 'Fare',\n",
       " 'Cabin',\n",
       " 'Embarked']"
      ]
     },
     "execution_count": 419,
     "metadata": {},
     "output_type": "execute_result"
    }
   ],
   "source": [
    "cols"
   ]
  },
  {
   "cell_type": "code",
   "execution_count": 420,
   "metadata": {},
   "outputs": [],
   "source": [
    "cols.remove('Survived')"
   ]
  },
  {
   "cell_type": "code",
   "execution_count": 421,
   "metadata": {},
   "outputs": [
    {
     "data": {
      "text/plain": [
       "Survived    1.000000\n",
       "Pclass     -0.338481\n",
       "Age        -0.077221\n",
       "SibSp      -0.035322\n",
       "Parch       0.081629\n",
       "Fare        0.257307\n",
       "Name: Survived, dtype: float64"
      ]
     },
     "execution_count": 421,
     "metadata": {},
     "output_type": "execute_result"
    }
   ],
   "source": [
    "train[train.columns[1:]].corr()['Survived'][:]"
   ]
  },
  {
   "cell_type": "code",
   "execution_count": 422,
   "metadata": {},
   "outputs": [],
   "source": [
    "Y = train['Survived']\n",
    "X = train[cols]"
   ]
  },
  {
   "cell_type": "code",
   "execution_count": 423,
   "metadata": {},
   "outputs": [],
   "source": [
    "X_train, X_test, y_train, y_test = train_test_split(X, Y, test_size=0.3, random_state=42, stratify=Y)"
   ]
  },
  {
   "cell_type": "code",
   "execution_count": 424,
   "metadata": {},
   "outputs": [],
   "source": [
    "import pandas as pd\n",
    "from plotnine import *\n",
    "\n",
    "%matplotlib inline"
   ]
  },
  {
   "cell_type": "code",
   "execution_count": 425,
   "metadata": {},
   "outputs": [],
   "source": [
    "def wykres_czestosci(tab,nazwa_zmien):\n",
    "    return (ggplot(tab, aes(nazwa_zmien, fill= nazwa_zmien, color= nazwa_zmien))\n",
    "     + geom_bar()\n",
    "     + geom_text(\n",
    "        aes(label='stat(prop)*100', group=1),\n",
    "        stat='count',\n",
    "        nudge_y=0.125,\n",
    "        va='bottom',\n",
    "        format_string='{:.1f}%'\n",
    "    )\n",
    "    +ggtitle('Wykres częstości zmiennej '+nazwa_zmien)\n",
    "    )"
   ]
  },
  {
   "cell_type": "code",
   "execution_count": 426,
   "metadata": {},
   "outputs": [
    {
     "data": {
      "text/html": [
       "<div>\n",
       "<style scoped>\n",
       "    .dataframe tbody tr th:only-of-type {\n",
       "        vertical-align: middle;\n",
       "    }\n",
       "\n",
       "    .dataframe tbody tr th {\n",
       "        vertical-align: top;\n",
       "    }\n",
       "\n",
       "    .dataframe thead th {\n",
       "        text-align: right;\n",
       "    }\n",
       "</style>\n",
       "<table border=\"1\" class=\"dataframe\">\n",
       "  <thead>\n",
       "    <tr style=\"text-align: right;\">\n",
       "      <th></th>\n",
       "      <th>PassengerId</th>\n",
       "      <th>Pclass</th>\n",
       "      <th>Age</th>\n",
       "      <th>SibSp</th>\n",
       "      <th>Parch</th>\n",
       "      <th>Fare</th>\n",
       "    </tr>\n",
       "  </thead>\n",
       "  <tbody>\n",
       "    <tr>\n",
       "      <th>count</th>\n",
       "      <td>623.000000</td>\n",
       "      <td>623.000000</td>\n",
       "      <td>504.000000</td>\n",
       "      <td>623.000000</td>\n",
       "      <td>623.000000</td>\n",
       "      <td>623.000000</td>\n",
       "    </tr>\n",
       "    <tr>\n",
       "      <th>mean</th>\n",
       "      <td>442.746388</td>\n",
       "      <td>2.319422</td>\n",
       "      <td>30.045476</td>\n",
       "      <td>0.457464</td>\n",
       "      <td>0.377207</td>\n",
       "      <td>30.874003</td>\n",
       "    </tr>\n",
       "    <tr>\n",
       "      <th>std</th>\n",
       "      <td>260.035033</td>\n",
       "      <td>0.830909</td>\n",
       "      <td>14.502377</td>\n",
       "      <td>0.964501</td>\n",
       "      <td>0.841409</td>\n",
       "      <td>47.760418</td>\n",
       "    </tr>\n",
       "    <tr>\n",
       "      <th>min</th>\n",
       "      <td>1.000000</td>\n",
       "      <td>1.000000</td>\n",
       "      <td>0.420000</td>\n",
       "      <td>0.000000</td>\n",
       "      <td>0.000000</td>\n",
       "      <td>0.000000</td>\n",
       "    </tr>\n",
       "    <tr>\n",
       "      <th>25%</th>\n",
       "      <td>218.500000</td>\n",
       "      <td>2.000000</td>\n",
       "      <td>21.000000</td>\n",
       "      <td>0.000000</td>\n",
       "      <td>0.000000</td>\n",
       "      <td>7.895800</td>\n",
       "    </tr>\n",
       "    <tr>\n",
       "      <th>50%</th>\n",
       "      <td>441.000000</td>\n",
       "      <td>3.000000</td>\n",
       "      <td>29.000000</td>\n",
       "      <td>0.000000</td>\n",
       "      <td>0.000000</td>\n",
       "      <td>13.500000</td>\n",
       "    </tr>\n",
       "    <tr>\n",
       "      <th>75%</th>\n",
       "      <td>668.500000</td>\n",
       "      <td>3.000000</td>\n",
       "      <td>39.000000</td>\n",
       "      <td>1.000000</td>\n",
       "      <td>0.000000</td>\n",
       "      <td>30.000000</td>\n",
       "    </tr>\n",
       "    <tr>\n",
       "      <th>max</th>\n",
       "      <td>891.000000</td>\n",
       "      <td>3.000000</td>\n",
       "      <td>80.000000</td>\n",
       "      <td>8.000000</td>\n",
       "      <td>6.000000</td>\n",
       "      <td>512.329200</td>\n",
       "    </tr>\n",
       "  </tbody>\n",
       "</table>\n",
       "</div>"
      ],
      "text/plain": [
       "       PassengerId      Pclass         Age       SibSp       Parch        Fare\n",
       "count   623.000000  623.000000  504.000000  623.000000  623.000000  623.000000\n",
       "mean    442.746388    2.319422   30.045476    0.457464    0.377207   30.874003\n",
       "std     260.035033    0.830909   14.502377    0.964501    0.841409   47.760418\n",
       "min       1.000000    1.000000    0.420000    0.000000    0.000000    0.000000\n",
       "25%     218.500000    2.000000   21.000000    0.000000    0.000000    7.895800\n",
       "50%     441.000000    3.000000   29.000000    0.000000    0.000000   13.500000\n",
       "75%     668.500000    3.000000   39.000000    1.000000    0.000000   30.000000\n",
       "max     891.000000    3.000000   80.000000    8.000000    6.000000  512.329200"
      ]
     },
     "execution_count": 426,
     "metadata": {},
     "output_type": "execute_result"
    }
   ],
   "source": [
    "X_train.describe()"
   ]
  },
  {
   "cell_type": "code",
   "execution_count": 427,
   "metadata": {},
   "outputs": [
    {
     "name": "stdout",
     "output_type": "stream",
     "text": [
      "<class 'pandas.core.frame.DataFrame'>\n",
      "Int64Index: 623 entries, 748 to 136\n",
      "Data columns (total 11 columns):\n",
      " #   Column       Non-Null Count  Dtype  \n",
      "---  ------       --------------  -----  \n",
      " 0   PassengerId  623 non-null    int64  \n",
      " 1   Pclass       623 non-null    int64  \n",
      " 2   Name         623 non-null    object \n",
      " 3   Sex          623 non-null    object \n",
      " 4   Age          504 non-null    float64\n",
      " 5   SibSp        623 non-null    int64  \n",
      " 6   Parch        623 non-null    int64  \n",
      " 7   Ticket       623 non-null    object \n",
      " 8   Fare         623 non-null    float64\n",
      " 9   Cabin        136 non-null    object \n",
      " 10  Embarked     621 non-null    object \n",
      "dtypes: float64(2), int64(4), object(5)\n",
      "memory usage: 58.4+ KB\n"
     ]
    }
   ],
   "source": [
    "X_train.info()"
   ]
  },
  {
   "cell_type": "code",
   "execution_count": null,
   "metadata": {},
   "outputs": [],
   "source": []
  },
  {
   "cell_type": "code",
   "execution_count": 428,
   "metadata": {},
   "outputs": [
    {
     "data": {
      "text/plain": [
       "748            Marvin, Mr. Daniel Warner\n",
       "45              Rogers, Mr. William John\n",
       "28         O'Dwyer, Miss. Ellen \"Nellie\"\n",
       "633        Parr, Mr. William Henry Marsh\n",
       "403       Hakkarainen, Mr. Pekka Pietari\n",
       "720    Harper, Miss. Annie Jessie \"Nina\"\n",
       "209                     Blank, Mr. Henry\n",
       "695           Chapman, Mr. Charles Henry\n",
       "493              Artagaveytia, Mr. Ramon\n",
       "844                  Culumovic, Mr. Jeso\n",
       "Name: Name, dtype: object"
      ]
     },
     "execution_count": 428,
     "metadata": {},
     "output_type": "execute_result"
    }
   ],
   "source": [
    "X_train['Name'].head(10)"
   ]
  },
  {
   "cell_type": "code",
   "execution_count": 429,
   "metadata": {},
   "outputs": [],
   "source": [
    "#Tworzenie zmiennej nazwisko, przedrostek  czy kobieta jest zamężna"
   ]
  },
  {
   "cell_type": "code",
   "execution_count": 430,
   "metadata": {},
   "outputs": [
    {
     "name": "stderr",
     "output_type": "stream",
     "text": [
      "C:\\Python37\\lib\\site-packages\\pandas\\core\\indexing.py:845: SettingWithCopyWarning: \n",
      "A value is trying to be set on a copy of a slice from a DataFrame.\n",
      "Try using .loc[row_indexer,col_indexer] = value instead\n",
      "\n",
      "See the caveats in the documentation: https://pandas.pydata.org/pandas-docs/stable/user_guide/indexing.html#returning-a-view-versus-a-copy\n",
      "  self.obj[key] = _infer_fill_value(value)\n",
      "C:\\Python37\\lib\\site-packages\\pandas\\core\\indexing.py:966: SettingWithCopyWarning: \n",
      "A value is trying to be set on a copy of a slice from a DataFrame.\n",
      "Try using .loc[row_indexer,col_indexer] = value instead\n",
      "\n",
      "See the caveats in the documentation: https://pandas.pydata.org/pandas-docs/stable/user_guide/indexing.html#returning-a-view-versus-a-copy\n",
      "  self.obj[item] = s\n"
     ]
    }
   ],
   "source": [
    "X_train.loc[:,'nazwisko'] = X_train.apply(lambda x: x['Name'][:x['Name'].index(',')], axis=1)\n",
    "X_test.loc[:,'nazwisko'] = X_test.apply(lambda x: x['Name'][:x['Name'].index(',')], axis=1)"
   ]
  },
  {
   "cell_type": "code",
   "execution_count": 431,
   "metadata": {},
   "outputs": [
    {
     "name": "stderr",
     "output_type": "stream",
     "text": [
      "C:\\Python37\\lib\\site-packages\\ipykernel_launcher.py:1: SettingWithCopyWarning: \n",
      "A value is trying to be set on a copy of a slice from a DataFrame.\n",
      "Try using .loc[row_indexer,col_indexer] = value instead\n",
      "\n",
      "See the caveats in the documentation: https://pandas.pydata.org/pandas-docs/stable/user_guide/indexing.html#returning-a-view-versus-a-copy\n",
      "  \"\"\"Entry point for launching an IPython kernel.\n",
      "C:\\Python37\\lib\\site-packages\\ipykernel_launcher.py:2: SettingWithCopyWarning: \n",
      "A value is trying to be set on a copy of a slice from a DataFrame.\n",
      "Try using .loc[row_indexer,col_indexer] = value instead\n",
      "\n",
      "See the caveats in the documentation: https://pandas.pydata.org/pandas-docs/stable/user_guide/indexing.html#returning-a-view-versus-a-copy\n",
      "  \n"
     ]
    }
   ],
   "source": [
    "X_train['przedrostek'] = X_train.apply(lambda x: x['Name'][x['Name'].index(',')+2:x['Name'].index('.')], axis=1)\n",
    "X_test['przedrostek'] = X_test.apply(lambda x: x['Name'][x['Name'].index(',')+2:x['Name'].index('.')], axis=1)"
   ]
  },
  {
   "cell_type": "code",
   "execution_count": 432,
   "metadata": {},
   "outputs": [
    {
     "data": {
      "text/plain": [
       "array(['Col', 'Don', 'Dr', 'Jonkheer', 'Lady', 'Major', 'Master', 'Miss',\n",
       "       'Mlle', 'Mr', 'Mrs', 'Rev', 'Sir'], dtype=object)"
      ]
     },
     "execution_count": 432,
     "metadata": {},
     "output_type": "execute_result"
    }
   ],
   "source": [
    "np.unique(X_train['przedrostek'])"
   ]
  },
  {
   "cell_type": "code",
   "execution_count": 433,
   "metadata": {},
   "outputs": [
    {
     "data": {
      "text/plain": [
       "array(['Capt', 'Dr', 'Major', 'Master', 'Miss', 'Mme', 'Mr', 'Mrs', 'Ms',\n",
       "       'Rev', 'the Countess'], dtype=object)"
      ]
     },
     "execution_count": 433,
     "metadata": {},
     "output_type": "execute_result"
    }
   ],
   "source": [
    "np.unique(X_test['przedrostek'])"
   ]
  },
  {
   "cell_type": "code",
   "execution_count": 434,
   "metadata": {},
   "outputs": [],
   "source": [
    "def zamiana_przedostków(x):\n",
    "    przedrostek = x['przedrostek']\n",
    "    if przedrostek in ['Capt', 'Col', 'Don', 'Jonkheer', 'Major', 'Rev', 'Sir']:\n",
    "        return 'Mr'\n",
    "    elif przedrostek in ['the Countess', 'Mme', 'Lady']:\n",
    "        return 'Mrs'\n",
    "    elif przedrostek in ['Mlle', 'Ms']:\n",
    "        return 'Miss'\n",
    "    elif przedrostek =='Dr':\n",
    "        if x['Sex']=='male':\n",
    "            return 'Mr'\n",
    "        else:\n",
    "            return 'Mrs'\n",
    "    else:\n",
    "        return przedrostek"
   ]
  },
  {
   "cell_type": "code",
   "execution_count": 435,
   "metadata": {},
   "outputs": [
    {
     "name": "stderr",
     "output_type": "stream",
     "text": [
      "C:\\Python37\\lib\\site-packages\\ipykernel_launcher.py:1: SettingWithCopyWarning: \n",
      "A value is trying to be set on a copy of a slice from a DataFrame.\n",
      "Try using .loc[row_indexer,col_indexer] = value instead\n",
      "\n",
      "See the caveats in the documentation: https://pandas.pydata.org/pandas-docs/stable/user_guide/indexing.html#returning-a-view-versus-a-copy\n",
      "  \"\"\"Entry point for launching an IPython kernel.\n",
      "C:\\Python37\\lib\\site-packages\\ipykernel_launcher.py:2: SettingWithCopyWarning: \n",
      "A value is trying to be set on a copy of a slice from a DataFrame.\n",
      "Try using .loc[row_indexer,col_indexer] = value instead\n",
      "\n",
      "See the caveats in the documentation: https://pandas.pydata.org/pandas-docs/stable/user_guide/indexing.html#returning-a-view-versus-a-copy\n",
      "  \n"
     ]
    }
   ],
   "source": [
    "X_train['przedrostek'] = X_train.apply(zamiana_przedostków, axis=1)\n",
    "X_test['przedrostek'] = X_test.apply(zamiana_przedostków, axis=1)"
   ]
  },
  {
   "cell_type": "code",
   "execution_count": 436,
   "metadata": {},
   "outputs": [
    {
     "data": {
      "image/png": "[encoded data removed]",
      "text/plain": [
       "<Figure size 640x480 with 1 Axes>"
      ]
     },
     "metadata": {},
     "output_type": "display_data"
    },
    {
     "data": {
      "text/plain": [
       "<ggplot: (-9223371885672775701)>"
      ]
     },
     "execution_count": 436,
     "metadata": {},
     "output_type": "execute_result"
    }
   ],
   "source": [
    "wykres_czestosci(X_train, 'przedrostek')"
   ]
  },
  {
   "cell_type": "code",
   "execution_count": 437,
   "metadata": {},
   "outputs": [],
   "source": [
    "#master niezamężny\n",
    "# mr męzczyzna\n",
    "# miss nizamężna\n",
    "# mrs zamężna"
   ]
  },
  {
   "cell_type": "code",
   "execution_count": 438,
   "metadata": {},
   "outputs": [
    {
     "name": "stderr",
     "output_type": "stream",
     "text": [
      "C:\\Python37\\lib\\site-packages\\ipykernel_launcher.py:1: SettingWithCopyWarning: \n",
      "A value is trying to be set on a copy of a slice from a DataFrame.\n",
      "Try using .loc[row_indexer,col_indexer] = value instead\n",
      "\n",
      "See the caveats in the documentation: https://pandas.pydata.org/pandas-docs/stable/user_guide/indexing.html#returning-a-view-versus-a-copy\n",
      "  \"\"\"Entry point for launching an IPython kernel.\n",
      "C:\\Python37\\lib\\site-packages\\ipykernel_launcher.py:2: SettingWithCopyWarning: \n",
      "A value is trying to be set on a copy of a slice from a DataFrame.\n",
      "Try using .loc[row_indexer,col_indexer] = value instead\n",
      "\n",
      "See the caveats in the documentation: https://pandas.pydata.org/pandas-docs/stable/user_guide/indexing.html#returning-a-view-versus-a-copy\n",
      "  \n"
     ]
    }
   ],
   "source": [
    "X_train['zamężna kobieta'] = X_train.apply( lambda x: 1 if x['przedrostek'] == 'Mrs' else 0, axis=1)\n",
    "X_test['zamężna kobieta'] = X_test.apply( lambda x: 1 if x['przedrostek'] == 'Mrs' else 0, axis=1)"
   ]
  },
  {
   "cell_type": "code",
   "execution_count": 439,
   "metadata": {},
   "outputs": [],
   "source": [
    "# Nazwisko jest zbyt zróżnicowaną zmienną, usuwam, tak samo jak name"
   ]
  },
  {
   "cell_type": "code",
   "execution_count": 440,
   "metadata": {},
   "outputs": [],
   "source": [
    "X_train = X_train.drop(columns=['nazwisko','Name'])\n",
    "X_test = X_test.drop(columns=['nazwisko','Name'])"
   ]
  },
  {
   "cell_type": "code",
   "execution_count": 441,
   "metadata": {},
   "outputs": [],
   "source": [
    "# tworzę zmienną czy dziecko mówiącą czy podróżujący ma poniżej 18 lat\n",
    "X_train.loc[:,'Czy dziecko'] = X_train.apply(lambda x: 1 if x['Age']<18 else 0 , axis=1)\n",
    "X_test.loc[:,'Czy dziecko'] = X_test.apply(lambda x: 1 if x['Age']<18 else 0 , axis=1)"
   ]
  },
  {
   "cell_type": "code",
   "execution_count": 442,
   "metadata": {},
   "outputs": [],
   "source": [
    "# nowa zmienna mówiąca o ilości osób podróżujących na tym samym bilecie\n",
    "X_train['No_ppl_on_ticket'] = X_train.groupby(['Ticket'])['Ticket'].transform('count')\n",
    "X_test['No_ppl_on_ticket'] = X_test.groupby(['Ticket'])['Ticket'].transform('count')\n",
    "\n",
    "X_test['No_ppl_on_ticket'] = X_test['No_ppl_on_ticket'].astype('object')\n",
    "X_train['No_ppl_on_ticket'] = X_train['No_ppl_on_ticket'].astype('object')"
   ]
  },
  {
   "cell_type": "code",
   "execution_count": 443,
   "metadata": {},
   "outputs": [
    {
     "data": {
      "image/png": "[encoded data removed]",
      "text/plain": [
       "<Figure size 640x480 with 1 Axes>"
      ]
     },
     "metadata": {},
     "output_type": "display_data"
    },
    {
     "data": {
      "text/plain": [
       "<ggplot: (151181798783)>"
      ]
     },
     "execution_count": 443,
     "metadata": {},
     "output_type": "execute_result"
    }
   ],
   "source": [
    "wykres_czestosci(X_train, 'No_ppl_on_ticket')"
   ]
  },
  {
   "cell_type": "code",
   "execution_count": 444,
   "metadata": {},
   "outputs": [],
   "source": [
    "# redukuje mało liczne kategorie \n",
    "def liczba_osob_na_bil(x):\n",
    "    if x['No_ppl_on_ticket'] >= 4:\n",
    "        return '3+'\n",
    "    else:\n",
    "        return str(x['No_ppl_on_ticket'])"
   ]
  },
  {
   "cell_type": "code",
   "execution_count": 445,
   "metadata": {},
   "outputs": [],
   "source": [
    "X_test['No_ppl_on_ticket'] = X_test.apply(liczba_osob_na_bil, axis=1)\n",
    "X_train['No_ppl_on_ticket'] = X_train.apply(liczba_osob_na_bil, axis=1)"
   ]
  },
  {
   "cell_type": "code",
   "execution_count": 446,
   "metadata": {},
   "outputs": [
    {
     "data": {
      "image/png": "[encoded data removed]",
      "text/plain": [
       "<Figure size 640x480 with 1 Axes>"
      ]
     },
     "metadata": {},
     "output_type": "display_data"
    },
    {
     "data": {
      "text/plain": [
       "<ggplot: (151180184149)>"
      ]
     },
     "execution_count": 446,
     "metadata": {},
     "output_type": "execute_result"
    }
   ],
   "source": [
    "wykres_czestosci(X_train, 'No_ppl_on_ticket')"
   ]
  },
  {
   "cell_type": "code",
   "execution_count": 447,
   "metadata": {},
   "outputs": [],
   "source": [
    "# usuwam zmienną PassengerId, za mało mówi \n",
    "X_train.drop(columns=['PassengerId'], inplace = True)\n",
    "X_test.drop(columns=['PassengerId'], inplace = True)"
   ]
  },
  {
   "cell_type": "code",
   "execution_count": 448,
   "metadata": {},
   "outputs": [],
   "source": [
    "# zmieniam typy zmiennych\n",
    "X_train.loc[:,'Pclass'] = X_train.loc[:,'Pclass'].astype('object')\n",
    "X_train.loc[:,'SibSp'] = X_train.loc[:,'SibSp'].astype('object')\n",
    "X_train.loc[:,'Parch'] = X_train.loc[:,'Parch'].astype('object')\n",
    "\n",
    "\n",
    "X_test.loc[:,'Parch'] = X_test.loc[:,'Parch'].astype('object')\n",
    "X_test.loc[:,'Pclass'] = X_test.loc[:,'Pclass'].astype('object')\n",
    "X_test.loc[:,'SibSp'] = X_test.loc[:,'SibSp'].astype('object')"
   ]
  },
  {
   "cell_type": "code",
   "execution_count": 449,
   "metadata": {},
   "outputs": [
    {
     "name": "stdout",
     "output_type": "stream",
     "text": [
      "<class 'pandas.core.frame.DataFrame'>\n",
      "Int64Index: 623 entries, 748 to 136\n",
      "Data columns (total 13 columns):\n",
      " #   Column            Non-Null Count  Dtype  \n",
      "---  ------            --------------  -----  \n",
      " 0   Pclass            623 non-null    object \n",
      " 1   Sex               623 non-null    object \n",
      " 2   Age               504 non-null    float64\n",
      " 3   SibSp             623 non-null    object \n",
      " 4   Parch             623 non-null    object \n",
      " 5   Ticket            623 non-null    object \n",
      " 6   Fare              623 non-null    float64\n",
      " 7   Cabin             136 non-null    object \n",
      " 8   Embarked          621 non-null    object \n",
      " 9   przedrostek       623 non-null    object \n",
      " 10  zamężna kobieta   623 non-null    int64  \n",
      " 11  Czy dziecko       623 non-null    int64  \n",
      " 12  No_ppl_on_ticket  623 non-null    object \n",
      "dtypes: float64(2), int64(2), object(9)\n",
      "memory usage: 68.1+ KB\n"
     ]
    }
   ],
   "source": [
    "X_train.info()"
   ]
  },
  {
   "cell_type": "code",
   "execution_count": 450,
   "metadata": {},
   "outputs": [
    {
     "name": "stdout",
     "output_type": "stream",
     "text": [
      "Pclass\n",
      "Series([], Name: Pclass, dtype: object)\n",
      "Sex\n",
      "Series([], Name: Sex, dtype: object)\n",
      "Age\n",
      "45    NaN\n",
      "28    NaN\n",
      "633   NaN\n",
      "727   NaN\n",
      "740   NaN\n",
      "       ..\n",
      "709   NaN\n",
      "330   NaN\n",
      "223   NaN\n",
      "451   NaN\n",
      "680   NaN\n",
      "Name: Age, Length: 119, dtype: float64\n",
      "SibSp\n",
      "Series([], Name: SibSp, dtype: object)\n",
      "Parch\n",
      "Series([], Name: Parch, dtype: object)\n",
      "Ticket\n",
      "Series([], Name: Ticket, dtype: object)\n",
      "Fare\n",
      "Series([], Name: Fare, dtype: float64)\n",
      "Cabin\n",
      "45     NaN\n",
      "28     NaN\n",
      "633    NaN\n",
      "403    NaN\n",
      "720    NaN\n",
      "      ... \n",
      "104    NaN\n",
      "680    NaN\n",
      "476    NaN\n",
      "190    NaN\n",
      "736    NaN\n",
      "Name: Cabin, Length: 487, dtype: object\n",
      "Embarked\n",
      "829    NaN\n",
      "61     NaN\n",
      "Name: Embarked, dtype: object\n",
      "przedrostek\n",
      "Series([], Name: przedrostek, dtype: object)\n",
      "zamężna kobieta\n",
      "Series([], Name: zamężna kobieta, dtype: int64)\n",
      "Czy dziecko\n",
      "Series([], Name: Czy dziecko, dtype: int64)\n",
      "No_ppl_on_ticket\n",
      "Series([], Name: No_ppl_on_ticket, dtype: object)\n"
     ]
    }
   ],
   "source": [
    "# printuje zmienne, i rozpoznaje które mają braki danych\n",
    "for i in X_train.columns:\n",
    "    print(i)\n",
    "    print(X_train.loc[X_train[i].isnull(),i])"
   ]
  },
  {
   "cell_type": "code",
   "execution_count": 451,
   "metadata": {},
   "outputs": [
    {
     "data": {
      "text/plain": [
       "array(['A10', 'A16', 'A19', 'A20', 'A23', 'A24', 'A26', 'A31', 'A32',\n",
       "       'A34', 'A36', 'A5', 'A7', 'B101', 'B18', 'B19', 'B20', 'B22',\n",
       "       'B28', 'B30', 'B35', 'B37', 'B39', 'B4', 'B42', 'B49', 'B5', 'B50',\n",
       "       'B51 B53 B55', 'B57 B59 B63 B66', 'B58 B60', 'B69', 'B73', 'B77',\n",
       "       'B78', 'B80', 'B82 B84', 'B86', 'B96 B98', 'C104', 'C106', 'C110',\n",
       "       'C118', 'C123', 'C124', 'C125', 'C148', 'C2', 'C22 C26', 'C32',\n",
       "       'C45', 'C46', 'C47', 'C49', 'C54', 'C62 C64', 'C65', 'C68', 'C7',\n",
       "       'C70', 'C78', 'C83', 'C86', 'C90', 'C91', 'C92', 'C93', 'C95',\n",
       "       'C99', 'D', 'D10 D12', 'D11', 'D15', 'D17', 'D19', 'D20', 'D26',\n",
       "       'D30', 'D33', 'D35', 'D36', 'D45', 'D47', 'D56', 'D6', 'D9', 'E10',\n",
       "       'E101', 'E12', 'E121', 'E17', 'E24', 'E25', 'E33', 'E34', 'E36',\n",
       "       'E38', 'E40', 'E44', 'E46', 'E58', 'E63', 'E67', 'E68', 'E77',\n",
       "       'E8', 'F E69', 'F G73', 'F2', 'F33', 'F4', 'G6', 'T', 'nan'],\n",
       "      dtype=object)"
      ]
     },
     "execution_count": 451,
     "metadata": {},
     "output_type": "execute_result"
    }
   ],
   "source": [
    "np.unique(X_train['Cabin'].astype('str'))"
   ]
  },
  {
   "cell_type": "code",
   "execution_count": 452,
   "metadata": {},
   "outputs": [],
   "source": [
    "# uzupełniam braki danych w zmiennej Cabin i Embarked\n",
    "X_train['Cabin'].fillna('OTHER', inplace=True)\n",
    "X_test['Cabin'].fillna('OTHER', inplace=True)\n",
    "\n",
    "X_train['Embarked'].fillna('OTHER', inplace = True)\n",
    "X_test['Embarked'].fillna('OTHER', inplace = True)"
   ]
  },
  {
   "cell_type": "code",
   "execution_count": null,
   "metadata": {},
   "outputs": [],
   "source": []
  },
  {
   "cell_type": "code",
   "execution_count": 453,
   "metadata": {},
   "outputs": [],
   "source": [
    "# zachowuje tylko pierwszą literę z  wartości jakie przyjmuje zmienna Cabin, ograiczając liczbę unikalnych wartości"
   ]
  },
  {
   "cell_type": "code",
   "execution_count": 454,
   "metadata": {},
   "outputs": [
    {
     "data": {
      "text/plain": [
       "array(['A', 'B', 'C', 'D', 'E', 'F', 'G', 'O', 'T'], dtype=object)"
      ]
     },
     "execution_count": 454,
     "metadata": {},
     "output_type": "execute_result"
    }
   ],
   "source": [
    "X_train['Cabin'] = X_train['Cabin'].str[:1]\n",
    "X_test['Cabin'] = X_test['Cabin'].str[:1]\n",
    "\n",
    "np.unique(X_train['Cabin'].str[:1])"
   ]
  },
  {
   "cell_type": "code",
   "execution_count": 455,
   "metadata": {},
   "outputs": [
    {
     "data": {
      "image/png": "[encoded data removed]",
      "text/plain": [
       "<Figure size 640x480 with 1 Axes>"
      ]
     },
     "metadata": {},
     "output_type": "display_data"
    },
    {
     "data": {
      "text/plain": [
       "<ggplot: (-9223371885674177911)>"
      ]
     },
     "execution_count": 455,
     "metadata": {},
     "output_type": "execute_result"
    }
   ],
   "source": [
    "wykres_czestosci(X_train, 'Cabin')"
   ]
  },
  {
   "cell_type": "code",
   "execution_count": 456,
   "metadata": {},
   "outputs": [],
   "source": [
    "# jest sporo mało licznych kategorii, sprawdzam jak jeszcze bardziej je pogrupować,\n",
    "# sprawdzam z czym najbardziej skorelowana jest zmienna i grupuje w większe grupy"
   ]
  },
  {
   "cell_type": "code",
   "execution_count": 457,
   "metadata": {},
   "outputs": [
    {
     "data": {
      "image/png": "[encoded data removed]",
      "text/plain": [
       "<Figure size 432x288 with 2 Axes>"
      ]
     },
     "metadata": {
      "needs_background": "light"
     },
     "output_type": "display_data"
    },
    {
     "data": {
      "text/plain": [
       "{'corr':                     Pclass       Sex       Age     SibSp     Parch    Ticket  \\\n",
       " Pclass            1.000000  0.133149  0.352075  0.147624  0.027214  0.413482   \n",
       " Sex               0.133149  1.000000  0.001389  0.201117  0.279606  0.000000   \n",
       " Age               0.352075  0.001389  1.000000  0.225511  0.205022  0.936977   \n",
       " SibSp             0.147624  0.201117  0.225511  1.000000  0.236231  0.000000   \n",
       " Parch             0.027214  0.279606  0.205022  0.236231  1.000000  0.000000   \n",
       " Ticket            0.413482  0.000000  0.936977  0.000000  0.000000  1.000000   \n",
       " Fare              0.596880  0.214030  0.120652  0.191298  0.191104  1.000000   \n",
       " Cabin             0.588804  0.234065  0.312033  0.038749  0.000000  0.378336   \n",
       " Embarked          0.291102  0.153460  0.240310  0.000000  0.000000  0.408916   \n",
       " przedrostek       0.161921  0.998388  0.363124  0.320463  0.321156  0.000000   \n",
       " zamężna kobieta   0.227155  0.572976  0.215261  0.335846  0.325126  0.806025   \n",
       " Czy dziecko       0.132534  0.115088 -0.324054  0.463670  0.453615  0.852652   \n",
       " No_ppl_on_ticket  0.219437  0.315672  0.120711  0.462335  0.371251  0.413816   \n",
       " \n",
       "                       Fare     Cabin  Embarked  przedrostek  zamężna kobieta  \\\n",
       " Pclass            0.596880  0.588804  0.291102     0.161921         0.227155   \n",
       " Sex               0.214030  0.234065  0.153460     0.998388         0.572976   \n",
       " Age               0.120652  0.312033  0.240310     0.363124         0.215261   \n",
       " SibSp             0.191298  0.038749  0.000000     0.320463         0.335846   \n",
       " Parch             0.191104  0.000000  0.000000     0.321156         0.325126   \n",
       " Ticket            1.000000  0.378336  0.408916     0.000000         0.806025   \n",
       " Fare              1.000000  0.573001  0.322413     0.219823         0.138403   \n",
       " Cabin             0.573001  1.000000  0.223142     0.135065         0.197298   \n",
       " Embarked          0.322413  0.223142  1.000000     0.128172         0.116247   \n",
       " przedrostek       0.219823  0.135065  0.128172     1.000000         1.000000   \n",
       " zamężna kobieta   0.138403  0.197298  0.116247     1.000000         1.000000   \n",
       " Czy dziecko      -0.009425  0.142420  0.022008     0.585576        -0.123247   \n",
       " No_ppl_on_ticket  0.445242  0.168399  0.141412     0.262560         0.250126   \n",
       " \n",
       "                   Czy dziecko  No_ppl_on_ticket  \n",
       " Pclass               0.132534          0.219437  \n",
       " Sex                  0.115088          0.315672  \n",
       " Age                 -0.324054          0.120711  \n",
       " SibSp                0.463670          0.462335  \n",
       " Parch                0.453615          0.371251  \n",
       " Ticket               0.852652          0.413816  \n",
       " Fare                -0.009425          0.445242  \n",
       " Cabin                0.142420          0.168399  \n",
       " Embarked             0.022008          0.141412  \n",
       " przedrostek          0.585576          0.262560  \n",
       " zamężna kobieta     -0.123247          0.250126  \n",
       " Czy dziecko          1.000000          0.333832  \n",
       " No_ppl_on_ticket     0.333832          1.000000  ,\n",
       " 'ax': <matplotlib.axes._subplots.AxesSubplot at 0x23334ba39b0>}"
      ]
     },
     "execution_count": 457,
     "metadata": {},
     "output_type": "execute_result"
    }
   ],
   "source": [
    "nom_col = list(X_train.select_dtypes('object').columns)\n",
    "dython.nominal.associations(X_train, nominal_columns=nom_col)"
   ]
  },
  {
   "cell_type": "code",
   "execution_count": 458,
   "metadata": {},
   "outputs": [],
   "source": [
    "# występuje korelacja między kabiną a klasą, sprawdźmy grupowanie między dwoma cechami"
   ]
  },
  {
   "cell_type": "code",
   "execution_count": 459,
   "metadata": {},
   "outputs": [
    {
     "data": {
      "text/plain": [
       "Pclass  Cabin\n",
       "1       A         13\n",
       "        B         29\n",
       "        C         35\n",
       "        D         20\n",
       "        E         19\n",
       "        O         30\n",
       "        T          1\n",
       "2       D          3\n",
       "        E          3\n",
       "        F          6\n",
       "        O        118\n",
       "3       E          2\n",
       "        F          2\n",
       "        G          3\n",
       "        O        339\n",
       "Name: Cabin, dtype: int64"
      ]
     },
     "execution_count": 459,
     "metadata": {},
     "output_type": "execute_result"
    }
   ],
   "source": [
    "X_train.groupby(['Pclass','Cabin'])['Cabin'].aggregate('count')"
   ]
  },
  {
   "cell_type": "code",
   "execution_count": 460,
   "metadata": {},
   "outputs": [],
   "source": [
    "# wszystkie kabiny abc są w klasie pierwszej - grupuje w jedno, tak samo de i fg"
   ]
  },
  {
   "cell_type": "code",
   "execution_count": 461,
   "metadata": {},
   "outputs": [],
   "source": [
    "def group_cab(x):\n",
    "    if x['Cabin'] in ('A','B','C'):\n",
    "        return 'ABC'\n",
    "    elif x['Cabin'] in ('D','E'):\n",
    "        return 'DE'\n",
    "    elif x['Cabin'] in ('F','G'):\n",
    "        return 'FG'\n",
    "    else:\n",
    "        return 'O'"
   ]
  },
  {
   "cell_type": "code",
   "execution_count": 462,
   "metadata": {},
   "outputs": [],
   "source": [
    "X_train['Cabin'] = X_train.apply(group_cab, axis=1)\n",
    "X_test['Cabin'] = X_test.apply(group_cab, axis=1)"
   ]
  },
  {
   "cell_type": "code",
   "execution_count": 463,
   "metadata": {},
   "outputs": [
    {
     "data": {
      "image/png": "[encoded data removed]",
      "text/plain": [
       "<Figure size 640x480 with 1 Axes>"
      ]
     },
     "metadata": {},
     "output_type": "display_data"
    },
    {
     "data": {
      "text/plain": [
       "<ggplot: (151186375144)>"
      ]
     },
     "execution_count": 463,
     "metadata": {},
     "output_type": "execute_result"
    }
   ],
   "source": [
    "wykres_czestosci(X_train, 'Cabin')"
   ]
  },
  {
   "cell_type": "code",
   "execution_count": 464,
   "metadata": {},
   "outputs": [],
   "source": [
    "# sprawdzam wartości unikalne zmiennej Embarked, zmieniam jej typ na object"
   ]
  },
  {
   "cell_type": "code",
   "execution_count": 465,
   "metadata": {},
   "outputs": [
    {
     "data": {
      "text/plain": [
       "array(['C', 'OTHER', 'Q', 'S'], dtype=object)"
      ]
     },
     "execution_count": 465,
     "metadata": {},
     "output_type": "execute_result"
    }
   ],
   "source": [
    "np.unique(X_train['Embarked'].astype('str'))"
   ]
  },
  {
   "cell_type": "code",
   "execution_count": 466,
   "metadata": {},
   "outputs": [],
   "source": [
    "X_train['Embarked'] = X_train['Embarked'].astype('object')"
   ]
  },
  {
   "cell_type": "code",
   "execution_count": 467,
   "metadata": {},
   "outputs": [
    {
     "data": {
      "image/png": "[encoded data removed]",
      "text/plain": [
       "<Figure size 640x480 with 1 Axes>"
      ]
     },
     "metadata": {},
     "output_type": "display_data"
    },
    {
     "data": {
      "text/plain": [
       "<ggplot: (-9223371885669571682)>"
      ]
     },
     "execution_count": 467,
     "metadata": {},
     "output_type": "execute_result"
    }
   ],
   "source": [
    "wykres_czestosci(X_train, 'Embarked')"
   ]
  },
  {
   "cell_type": "code",
   "execution_count": 468,
   "metadata": {},
   "outputs": [],
   "source": [
    "# zmienna wiek"
   ]
  },
  {
   "cell_type": "code",
   "execution_count": 469,
   "metadata": {},
   "outputs": [
    {
     "data": {
      "text/plain": [
       "Pclass  Cabin\n",
       "1       ABC      32.953506\n",
       "        DE       38.615385\n",
       "        O        27.225806\n",
       "2       DE       32.583333\n",
       "        FG       15.833333\n",
       "        O        28.871441\n",
       "3       DE       19.000000\n",
       "        FG       15.200000\n",
       "        O        19.009351\n",
       "Name: Age, dtype: float64"
      ]
     },
     "execution_count": 469,
     "metadata": {},
     "output_type": "execute_result"
    }
   ],
   "source": [
    "# wiek najbardziej skorelowany z kabiną i Pclass, wypełnię średnią w grupach\n",
    "X_train.groupby(['Pclass','Cabin'])['Age'].mean()"
   ]
  },
  {
   "cell_type": "code",
   "execution_count": 470,
   "metadata": {},
   "outputs": [],
   "source": [
    "X_train['Age'] = X_train.groupby(['Pclass','Cabin'])['Age'].transform(lambda x: x.fillna(x.mean()))\n",
    "X_test['Age'] = X_test.groupby(['Pclass','Cabin'])['Age'].transform(lambda x: x.fillna(x.mean()))"
   ]
  },
  {
   "cell_type": "code",
   "execution_count": 471,
   "metadata": {},
   "outputs": [
    {
     "data": {
      "text/plain": [
       "[<matplotlib.lines.Line2D at 0x23336a0d240>]"
      ]
     },
     "execution_count": 471,
     "metadata": {},
     "output_type": "execute_result"
    },
    {
     "data": {
      "image/png": "[encoded data removed]",
      "text/plain": [
       "<Figure size 432x288 with 1 Axes>"
      ]
     },
     "metadata": {
      "needs_background": "light"
     },
     "output_type": "display_data"
    }
   ],
   "source": [
    "plt.plot(X_train['Age'], 'r.')"
   ]
  },
  {
   "cell_type": "code",
   "execution_count": 472,
   "metadata": {},
   "outputs": [
    {
     "data": {
      "text/plain": [
       "{'whiskers': [<matplotlib.lines.Line2D at 0x23336a6d198>,\n",
       "  <matplotlib.lines.Line2D at 0x23336a6d550>],\n",
       " 'caps': [<matplotlib.lines.Line2D at 0x23336a6d8d0>,\n",
       "  <matplotlib.lines.Line2D at 0x23336a6dc50>],\n",
       " 'boxes': [<matplotlib.lines.Line2D at 0x23336a6d048>],\n",
       " 'medians': [<matplotlib.lines.Line2D at 0x23336a6df98>],\n",
       " 'fliers': [<matplotlib.lines.Line2D at 0x23336a76320>],\n",
       " 'means': []}"
      ]
     },
     "execution_count": 472,
     "metadata": {},
     "output_type": "execute_result"
    },
    {
     "data": {
      "image/png": "[encoded data removed]",
      "text/plain": [
       "<Figure size 432x288 with 1 Axes>"
      ]
     },
     "metadata": {
      "needs_background": "light"
     },
     "output_type": "display_data"
    }
   ],
   "source": [
    "fig1, ax1 = plt.subplots()\n",
    "ax1.set_title('Basic Plot')\n",
    "ax1.boxplot(X_train['Age'])"
   ]
  },
  {
   "cell_type": "code",
   "execution_count": 473,
   "metadata": {},
   "outputs": [
    {
     "data": {
      "text/plain": [
       "(array([0.08005618, 0.01023274, 0.00361156, 0.00421348, 0.0024077 ,\n",
       "        0.00361156, 0.02227127, 0.02949438, 0.02166934, 0.02708668,\n",
       "        0.02347512, 0.01745586, 0.02467897, 0.02046549, 0.01264045,\n",
       "        0.01625201, 0.0114366 , 0.00541734, 0.0114366 , 0.00722311,\n",
       "        0.00421348, 0.00481541, 0.00300963, 0.00120385, 0.00300963,\n",
       "        0.        , 0.0024077 , 0.00060193, 0.        , 0.00060193]),\n",
       " array([ 0.        ,  2.66666667,  5.33333333,  8.        , 10.66666667,\n",
       "        13.33333333, 16.        , 18.66666667, 21.33333333, 24.        ,\n",
       "        26.66666667, 29.33333333, 32.        , 34.66666667, 37.33333333,\n",
       "        40.        , 42.66666667, 45.33333333, 48.        , 50.66666667,\n",
       "        53.33333333, 56.        , 58.66666667, 61.33333333, 64.        ,\n",
       "        66.66666667, 69.33333333, 72.        , 74.66666667, 77.33333333,\n",
       "        80.        ]),\n",
       " <a list of 30 Patch objects>)"
      ]
     },
     "execution_count": 473,
     "metadata": {},
     "output_type": "execute_result"
    },
    {
     "data": {
      "image/png": "[encoded data removed]",
      "text/plain": [
       "<Figure size 432x288 with 1 Axes>"
      ]
     },
     "metadata": {
      "needs_background": "light"
     },
     "output_type": "display_data"
    }
   ],
   "source": [
    "plt.hist(X_train['Age'], density=True, bins=30)"
   ]
  },
  {
   "cell_type": "code",
   "execution_count": 474,
   "metadata": {},
   "outputs": [],
   "source": [
    "# binuje co 15 lat "
   ]
  },
  {
   "cell_type": "code",
   "execution_count": 475,
   "metadata": {},
   "outputs": [],
   "source": [
    "def age_binning(x):\n",
    "    if x['Age'] <=15:\n",
    "        return 'dziecko <=15'\n",
    "    elif x['Age'] <= 30:\n",
    "        return ' młody dorosły <=30'\n",
    "    elif x['Age'] <= 45:\n",
    "        return ' dorosły <=45'\n",
    "    else:\n",
    "        return ' starszy dorosły i osoby starsze 45+'\n",
    "X_train['Age'] = X_train.apply(age_binning, axis=1)\n",
    "X_test['Age'] = X_test.apply(age_binning, axis=1)"
   ]
  },
  {
   "cell_type": "code",
   "execution_count": 476,
   "metadata": {},
   "outputs": [
    {
     "data": {
      "image/png": "[encoded data removed]",
      "text/plain": [
       "<Figure size 640x480 with 1 Axes>"
      ]
     },
     "metadata": {},
     "output_type": "display_data"
    },
    {
     "data": {
      "text/plain": [
       "<ggplot: (151186622633)>"
      ]
     },
     "execution_count": 476,
     "metadata": {},
     "output_type": "execute_result"
    }
   ],
   "source": [
    "wykres_czestosci(X_train, 'Age')"
   ]
  },
  {
   "cell_type": "code",
   "execution_count": 477,
   "metadata": {},
   "outputs": [],
   "source": [
    "# zmienna Fare, pozbycie się wartości odstających poprzez logarytm oraz winsorizing"
   ]
  },
  {
   "cell_type": "code",
   "execution_count": 478,
   "metadata": {},
   "outputs": [
    {
     "data": {
      "text/plain": [
       "[<matplotlib.lines.Line2D at 0x23336f04be0>]"
      ]
     },
     "execution_count": 478,
     "metadata": {},
     "output_type": "execute_result"
    },
    {
     "data": {
      "image/png": "[encoded data removed]",
      "text/plain": [
       "<Figure size 432x288 with 1 Axes>"
      ]
     },
     "metadata": {
      "needs_background": "light"
     },
     "output_type": "display_data"
    }
   ],
   "source": [
    "plt.plot(X_train['Fare'], 'b.')"
   ]
  },
  {
   "cell_type": "code",
   "execution_count": 479,
   "metadata": {},
   "outputs": [
    {
     "data": {
      "text/plain": [
       "{'whiskers': [<matplotlib.lines.Line2D at 0x23336f62668>,\n",
       "  <matplotlib.lines.Line2D at 0x23336f62a20>],\n",
       " 'caps': [<matplotlib.lines.Line2D at 0x23336f62da0>,\n",
       "  <matplotlib.lines.Line2D at 0x23336f6d160>],\n",
       " 'boxes': [<matplotlib.lines.Line2D at 0x23336f62518>],\n",
       " 'medians': [<matplotlib.lines.Line2D at 0x23336f6d4a8>],\n",
       " 'fliers': [<matplotlib.lines.Line2D at 0x23336f6d7f0>],\n",
       " 'means': []}"
      ]
     },
     "execution_count": 479,
     "metadata": {},
     "output_type": "execute_result"
    },
    {
     "data": {
      "image/png": "[encoded data removed]",
      "text/plain": [
       "<Figure size 432x288 with 1 Axes>"
      ]
     },
     "metadata": {
      "needs_background": "light"
     },
     "output_type": "display_data"
    }
   ],
   "source": [
    "fig1, ax1 = plt.subplots()\n",
    "ax1.set_title('Basic Plot')\n",
    "ax1.boxplot(X_train['Fare'])"
   ]
  },
  {
   "cell_type": "code",
   "execution_count": 480,
   "metadata": {},
   "outputs": [
    {
     "data": {
      "text/plain": [
       "(array([0.03327265, 0.0128767 , 0.00281972, 0.00272573, 0.00263173,\n",
       "        0.00075192, 0.00075192, 0.00075192, 0.00075192, 0.00018798,\n",
       "        0.        , 0.        , 0.00018798, 0.00028197, 0.00018798,\n",
       "        0.00018798, 0.        , 0.        , 0.        , 0.        ,\n",
       "        0.        , 0.        , 0.        , 0.        , 0.        ,\n",
       "        0.        , 0.        , 0.        , 0.        , 0.00018798]),\n",
       " array([  0.     ,  17.07764,  34.15528,  51.23292,  68.31056,  85.3882 ,\n",
       "        102.46584, 119.54348, 136.62112, 153.69876, 170.7764 , 187.85404,\n",
       "        204.93168, 222.00932, 239.08696, 256.1646 , 273.24224, 290.31988,\n",
       "        307.39752, 324.47516, 341.5528 , 358.63044, 375.70808, 392.78572,\n",
       "        409.86336, 426.941  , 444.01864, 461.09628, 478.17392, 495.25156,\n",
       "        512.3292 ]),\n",
       " <a list of 30 Patch objects>)"
      ]
     },
     "execution_count": 480,
     "metadata": {},
     "output_type": "execute_result"
    },
    {
     "data": {
      "image/png": "[encoded data removed]",
      "text/plain": [
       "<Figure size 432x288 with 1 Axes>"
      ]
     },
     "metadata": {
      "needs_background": "light"
     },
     "output_type": "display_data"
    }
   ],
   "source": [
    "plt.hist(X_train['Fare'], density=True, bins=30)"
   ]
  },
  {
   "cell_type": "code",
   "execution_count": 481,
   "metadata": {},
   "outputs": [
    {
     "data": {
      "text/plain": [
       "(array([0.06944281, 0.        , 0.        , 0.        , 0.        ,\n",
       "        0.        , 0.        , 0.00771587, 0.00771587, 0.04629521,\n",
       "        1.6049005 , 0.30863471, 0.37807752, 0.30863471, 0.19289669,\n",
       "        0.48609967, 0.37036165, 0.16974909, 0.06944281, 0.19289669,\n",
       "        0.12345388, 0.18518083, 0.06172694, 0.06172694, 0.07715868,\n",
       "        0.01543174, 0.05401107, 0.        , 0.        , 0.01543174]),\n",
       " array([0.        , 0.20803058, 0.41606116, 0.62409174, 0.83212231,\n",
       "        1.04015289, 1.24818347, 1.45621405, 1.66424463, 1.87227521,\n",
       "        2.08030578, 2.28833636, 2.49636694, 2.70439752, 2.9124281 ,\n",
       "        3.12045868, 3.32848926, 3.53651983, 3.74455041, 3.95258099,\n",
       "        4.16061157, 4.36864215, 4.57667273, 4.78470331, 4.99273388,\n",
       "        5.20076446, 5.40879504, 5.61682562, 5.8248562 , 6.03288678,\n",
       "        6.24091735]),\n",
       " <a list of 30 Patch objects>)"
      ]
     },
     "execution_count": 481,
     "metadata": {},
     "output_type": "execute_result"
    },
    {
     "data": {
      "image/png": "[encoded data removed]",
      "text/plain": [
       "<Figure size 432x288 with 1 Axes>"
      ]
     },
     "metadata": {
      "needs_background": "light"
     },
     "output_type": "display_data"
    }
   ],
   "source": [
    "plt.hist(np.log(X_train['Fare']+1), density=True, bins=30)"
   ]
  },
  {
   "cell_type": "code",
   "execution_count": 482,
   "metadata": {},
   "outputs": [
    {
     "data": {
      "text/plain": [
       "{'whiskers': [<matplotlib.lines.Line2D at 0x23336d3e470>,\n",
       "  <matplotlib.lines.Line2D at 0x23336d3e9e8>],\n",
       " 'caps': [<matplotlib.lines.Line2D at 0x23336d3ec88>,\n",
       "  <matplotlib.lines.Line2D at 0x23336d3ef60>],\n",
       " 'boxes': [<matplotlib.lines.Line2D at 0x23336d3e2e8>],\n",
       " 'medians': [<matplotlib.lines.Line2D at 0x23336ca8d30>],\n",
       " 'fliers': [<matplotlib.lines.Line2D at 0x23336edfc88>],\n",
       " 'means': []}"
      ]
     },
     "execution_count": 482,
     "metadata": {},
     "output_type": "execute_result"
    },
    {
     "data": {
      "image/png": "[encoded data removed]",
      "text/plain": [
       "<Figure size 432x288 with 1 Axes>"
      ]
     },
     "metadata": {
      "needs_background": "light"
     },
     "output_type": "display_data"
    }
   ],
   "source": [
    "fig1, ax1 = plt.subplots()\n",
    "ax1.set_title('Basic Plot')\n",
    "#ax1.boxplot(np.log(X_train['Fare']+1))\n",
    "ax1.boxplot(np.log(X_train['Fare']+0.1))"
   ]
  },
  {
   "cell_type": "code",
   "execution_count": 483,
   "metadata": {},
   "outputs": [],
   "source": [
    "X_train['Fare_log'] = np.log(X_train['Fare']+0.1)\n",
    "X_test['Fare_log'] = np.log(X_test['Fare']+0.1)"
   ]
  },
  {
   "cell_type": "code",
   "execution_count": 484,
   "metadata": {},
   "outputs": [],
   "source": [
    "# winsoriziong\n",
    "def Fare_log_winsor(x):\n",
    "    if x['Fare_log'] < np.percentile(X_train['Fare_log'],5):\n",
    "        return np.percentile(X_train['Fare_log'],5)\n",
    "    elif x['Fare_log'] > np.percentile(X_train['Fare_log'],95):\n",
    "        return np.percentile(X_train['Fare_log'],95)\n",
    "    else:\n",
    "        return x['Fare_log']\n",
    "X_train['Fare_log_winsor'] = X_train.apply(Fare_log_winsor, axis=1)\n",
    "\n",
    "def Fare_log_winsor(x):\n",
    "    if x['Fare_log'] < np.percentile(X_test['Fare_log'],5):\n",
    "        return np.percentile(X_test['Fare_log'],5)\n",
    "    elif x['Fare_log'] > np.percentile(X_test['Fare_log'],95):\n",
    "        return np.percentile(X_test['Fare_log'],95)\n",
    "    else:\n",
    "        return x['Fare_log']\n",
    "X_test['Fare_log_winsor'] = X_test.apply(Fare_log_winsor, axis=1)"
   ]
  },
  {
   "cell_type": "code",
   "execution_count": 485,
   "metadata": {},
   "outputs": [
    {
     "data": {
      "text/plain": [
       "{'whiskers': [<matplotlib.lines.Line2D at 0x23336b08048>,\n",
       "  <matplotlib.lines.Line2D at 0x23336b08e80>],\n",
       " 'caps': [<matplotlib.lines.Line2D at 0x23336b08080>,\n",
       "  <matplotlib.lines.Line2D at 0x233369b4c18>],\n",
       " 'boxes': [<matplotlib.lines.Line2D at 0x23336b082b0>],\n",
       " 'medians': [<matplotlib.lines.Line2D at 0x233369b40b8>],\n",
       " 'fliers': [<matplotlib.lines.Line2D at 0x233369b49e8>],\n",
       " 'means': []}"
      ]
     },
     "execution_count": 485,
     "metadata": {},
     "output_type": "execute_result"
    },
    {
     "data": {
      "image/png": "[encoded data removed]",
      "text/plain": [
       "<Figure size 432x288 with 1 Axes>"
      ]
     },
     "metadata": {
      "needs_background": "light"
     },
     "output_type": "display_data"
    }
   ],
   "source": [
    "fig1, ax1 = plt.subplots()\n",
    "ax1.set_title('Basic Plot')\n",
    "ax1.boxplot(X_train['Fare_log_winsor'])"
   ]
  },
  {
   "cell_type": "code",
   "execution_count": 486,
   "metadata": {},
   "outputs": [],
   "source": [
    "# tworzę zmienną no_fam_members określającą ilość członków rodziny na statku"
   ]
  },
  {
   "cell_type": "code",
   "execution_count": 487,
   "metadata": {},
   "outputs": [],
   "source": [
    "X_train['no_fam_members'] = X_train['SibSp']+X_train['Parch']+1\n",
    "X_test['no_fam_members'] = X_test['SibSp']+X_train['Parch']+1\n",
    "\n",
    "X_train['no_fam_members'] = X_train['no_fam_members'].astype('object')\n",
    "X_test['no_fam_members'] = X_test['no_fam_members'].astype('object')"
   ]
  },
  {
   "cell_type": "code",
   "execution_count": 488,
   "metadata": {},
   "outputs": [
    {
     "data": {
      "image/png": "[encoded data removed]",
      "text/plain": [
       "<Figure size 640x480 with 1 Axes>"
      ]
     },
     "metadata": {},
     "output_type": "display_data"
    },
    {
     "data": {
      "text/plain": [
       "<ggplot: (151186412201)>"
      ]
     },
     "execution_count": 488,
     "metadata": {},
     "output_type": "execute_result"
    }
   ],
   "source": [
    "wykres_czestosci(X_train, 'no_fam_members')"
   ]
  },
  {
   "cell_type": "code",
   "execution_count": 489,
   "metadata": {},
   "outputs": [],
   "source": [
    "#zmniejszenie liczby kategorii przez grupowanie\n",
    "def wielkosc_rodziny(x):\n",
    "    if x['no_fam_members'] < 2:\n",
    "        return 'singel'\n",
    "    elif ((x['no_fam_members'] >= 2) and (x['no_fam_members'] <= 4)):\n",
    "        return 'mała rodzina'\n",
    "    else:\n",
    "        return 'duza rodzina'\n",
    "\n",
    "X_train['no_fam_members'] = X_train.apply(wielkosc_rodziny, axis=1)\n",
    "X_test['no_fam_members'] = X_test.apply(wielkosc_rodziny, axis=1)"
   ]
  },
  {
   "cell_type": "code",
   "execution_count": 490,
   "metadata": {},
   "outputs": [
    {
     "data": {
      "image/png": "[encoded data removed]",
      "text/plain": [
       "<Figure size 640x480 with 1 Axes>"
      ]
     },
     "metadata": {},
     "output_type": "display_data"
    },
    {
     "data": {
      "text/plain": [
       "<ggplot: (151184452181)>"
      ]
     },
     "execution_count": 490,
     "metadata": {},
     "output_type": "execute_result"
    }
   ],
   "source": [
    "wykres_czestosci(X_train, 'no_fam_members')"
   ]
  },
  {
   "cell_type": "code",
   "execution_count": 491,
   "metadata": {},
   "outputs": [],
   "source": [
    "X_train = X_train.drop(columns=['Fare','Fare_log','Ticket'])\n",
    "X_test = X_test.drop(columns=['Fare','Fare_log','Ticket'])"
   ]
  },
  {
   "cell_type": "code",
   "execution_count": 492,
   "metadata": {},
   "outputs": [],
   "source": [
    "# zmiana typu zmiennych\n",
    "X_train['SibSp'] = X_train['SibSp'].astype('object')\n",
    "X_train['Parch'] = X_train['Parch'].astype('object')"
   ]
  },
  {
   "cell_type": "code",
   "execution_count": 493,
   "metadata": {},
   "outputs": [],
   "source": [
    "# korelacja"
   ]
  },
  {
   "cell_type": "code",
   "execution_count": 494,
   "metadata": {},
   "outputs": [
    {
     "ename": "NameError",
     "evalue": "name 'tab_corr' is not defined",
     "output_type": "error",
     "traceback": [
      "\u001b[1;31m---------------------------------------------------------------------------\u001b[0m",
      "\u001b[1;31mNameError\u001b[0m                                 Traceback (most recent call last)",
      "\u001b[1;32m<ipython-input-494-7a66167abcd7>\u001b[0m in \u001b[0;36m<module>\u001b[1;34m\u001b[0m\n\u001b[1;32m----> 1\u001b[1;33m \u001b[0mnom_col\u001b[0m \u001b[1;33m=\u001b[0m \u001b[0mlist\u001b[0m\u001b[1;33m(\u001b[0m\u001b[0mtab_corr\u001b[0m\u001b[1;33m.\u001b[0m\u001b[0mselect_dtypes\u001b[0m\u001b[1;33m(\u001b[0m\u001b[1;34m'object'\u001b[0m\u001b[1;33m)\u001b[0m\u001b[1;33m.\u001b[0m\u001b[0mcolumns\u001b[0m\u001b[1;33m)\u001b[0m\u001b[1;33m\u001b[0m\u001b[1;33m\u001b[0m\u001b[0m\n\u001b[0m\u001b[0;32m      2\u001b[0m \u001b[0mdython\u001b[0m\u001b[1;33m.\u001b[0m\u001b[0mnominal\u001b[0m\u001b[1;33m.\u001b[0m\u001b[0massociations\u001b[0m\u001b[1;33m(\u001b[0m\u001b[0mtab_corr\u001b[0m\u001b[1;33m,\u001b[0m \u001b[0mnominal_columns\u001b[0m\u001b[1;33m=\u001b[0m\u001b[0mnom_col\u001b[0m\u001b[1;33m)\u001b[0m\u001b[1;33m[\u001b[0m\u001b[1;34m'corr'\u001b[0m\u001b[1;33m]\u001b[0m\u001b[1;33m[\u001b[0m\u001b[1;34m'Survived'\u001b[0m\u001b[1;33m]\u001b[0m\u001b[1;33m\u001b[0m\u001b[1;33m\u001b[0m\u001b[0m\n",
      "\u001b[1;31mNameError\u001b[0m: name 'tab_corr' is not defined"
     ]
    }
   ],
   "source": [
    "nom_col = list(tab_corr.select_dtypes('object').columns)\n",
    "dython.nominal.associations(tab_corr, nominal_columns=nom_col)['corr']['Survived']"
   ]
  },
  {
   "cell_type": "code",
   "execution_count": null,
   "metadata": {},
   "outputs": [],
   "source": []
  },
  {
   "cell_type": "code",
   "execution_count": null,
   "metadata": {},
   "outputs": [],
   "source": [
    "# stnadaryzacja # dummys"
   ]
  },
  {
   "cell_type": "code",
   "execution_count": 495,
   "metadata": {},
   "outputs": [],
   "source": [
    "from sklearn.preprocessing import StandardScaler"
   ]
  },
  {
   "cell_type": "code",
   "execution_count": 496,
   "metadata": {},
   "outputs": [],
   "source": [
    "X_train[['Fare_log_winsor']] = StandardScaler().fit_transform(X_train[['Fare_log_winsor']])"
   ]
  },
  {
   "cell_type": "code",
   "execution_count": 497,
   "metadata": {},
   "outputs": [],
   "source": [
    "X_test[['Fare_log_winsor']] = StandardScaler().fit_transform(X_test[['Fare_log_winsor']])"
   ]
  },
  {
   "cell_type": "code",
   "execution_count": 498,
   "metadata": {},
   "outputs": [],
   "source": [
    "X_train['SibSp'] = X_train['SibSp'].astype('object')\n",
    "X_train['Parch'] = X_train['Parch'].astype('object')"
   ]
  },
  {
   "cell_type": "code",
   "execution_count": 499,
   "metadata": {},
   "outputs": [],
   "source": [
    "X_train = pd.concat([X_train, pd.get_dummies(X_train[list(X_train.select_dtypes('object').columns)])], axis=1) \n",
    "X_train = X_train.drop(columns= list(X_train.select_dtypes('object').columns))"
   ]
  },
  {
   "cell_type": "code",
   "execution_count": 500,
   "metadata": {},
   "outputs": [],
   "source": [
    "X_test = pd.concat([X_test, pd.get_dummies(X_test[list(X_test.select_dtypes('object').columns)])], axis=1) \n",
    "X_test = X_test.drop(columns= list(X_test.select_dtypes('object').columns))"
   ]
  },
  {
   "cell_type": "code",
   "execution_count": null,
   "metadata": {},
   "outputs": [],
   "source": []
  },
  {
   "cell_type": "code",
   "execution_count": 501,
   "metadata": {},
   "outputs": [
    {
     "data": {
      "text/plain": [
       "Index(['Pclass', 'zamężna kobieta', 'Czy dziecko', 'Fare_log_winsor',\n",
       "       'Sex_female', 'Sex_male', 'Age_ dorosły <=45',\n",
       "       'Age_ młody dorosły <=30', 'Age_ starszy dorosły i osoby starsze 45+',\n",
       "       'Age_dziecko <=15', 'SibSp_0', 'SibSp_1', 'SibSp_2', 'SibSp_3',\n",
       "       'SibSp_4', 'SibSp_8', 'Parch_0', 'Parch_1', 'Parch_2', 'Parch_3',\n",
       "       'Parch_4', 'Parch_5', 'Parch_6', 'Cabin_ABC', 'Cabin_DE', 'Cabin_FG',\n",
       "       'Cabin_O', 'Embarked_C', 'Embarked_OTHER', 'Embarked_Q', 'Embarked_S',\n",
       "       'przedrostek_Master', 'przedrostek_Miss', 'przedrostek_Mr',\n",
       "       'przedrostek_Mrs', 'No_ppl_on_ticket_1', 'No_ppl_on_ticket_2',\n",
       "       'No_ppl_on_ticket_3', 'No_ppl_on_ticket_3+',\n",
       "       'no_fam_members_duza rodzina', 'no_fam_members_mała rodzina',\n",
       "       'no_fam_members_singel'],\n",
       "      dtype='object')"
      ]
     },
     "execution_count": 501,
     "metadata": {},
     "output_type": "execute_result"
    }
   ],
   "source": [
    "X_train.columns"
   ]
  },
  {
   "cell_type": "code",
   "execution_count": 502,
   "metadata": {},
   "outputs": [],
   "source": [
    "X_train, X_test = X_train.align(X_test, join='left', axis=1)"
   ]
  },
  {
   "cell_type": "code",
   "execution_count": 503,
   "metadata": {},
   "outputs": [],
   "source": [
    "X_test.fillna(0, inplace=True)"
   ]
  },
  {
   "cell_type": "code",
   "execution_count": null,
   "metadata": {},
   "outputs": [],
   "source": []
  },
  {
   "cell_type": "code",
   "execution_count": 504,
   "metadata": {},
   "outputs": [],
   "source": [
    "# teraz modele "
   ]
  },
  {
   "cell_type": "code",
   "execution_count": 505,
   "metadata": {},
   "outputs": [],
   "source": [
    "#model regresji logistycznej"
   ]
  },
  {
   "cell_type": "code",
   "execution_count": 506,
   "metadata": {},
   "outputs": [
    {
     "name": "stdout",
     "output_type": "stream",
     "text": [
      "precision: 0.7719298245614035\n",
      "recall: 0.42718446601941745\n",
      "accuray: 0.7313432835820896\n",
      "f1 score: 0.709157669101302\n"
     ]
    }
   ],
   "source": [
    "clf = LogisticRegression(random_state=0).fit(X_train, y_train)\n",
    "\n",
    "y_pred = clf.predict(X_test)\n",
    "\n",
    "print('precision: '+str(precision_score(y_test, y_pred)))\n",
    "print('recall: '+str(recall_score(y_test, y_pred)))\n",
    "print('accuray: '+str(accuracy_score(y_test, y_pred)))\n",
    "print('f1 score: '+str(f1_score(y_test, y_pred, average='weighted')))"
   ]
  },
  {
   "cell_type": "code",
   "execution_count": 507,
   "metadata": {},
   "outputs": [
    {
     "data": {
      "text/plain": [
       "array([[152,  13],\n",
       "       [ 59,  44]], dtype=int64)"
      ]
     },
     "execution_count": 507,
     "metadata": {},
     "output_type": "execute_result"
    }
   ],
   "source": [
    "confusion_matrix(y_test, y_pred)"
   ]
  },
  {
   "cell_type": "code",
   "execution_count": null,
   "metadata": {},
   "outputs": [],
   "source": []
  },
  {
   "cell_type": "code",
   "execution_count": 508,
   "metadata": {},
   "outputs": [
    {
     "name": "stdout",
     "output_type": "stream",
     "text": [
      "precision: 0.5932203389830508\n",
      "recall: 0.6796116504854369\n",
      "accuray: 0.6977611940298507\n",
      "f1 score: 0.700822005036228\n"
     ]
    }
   ],
   "source": [
    "# model drzewa decyzyjnego\n",
    "\n",
    "clf = tree.DecisionTreeClassifier()\n",
    "clf.fit(X_train, y_train)\n",
    "\n",
    "spl_tree_pred = clf.predict(X_test)\n",
    "\n",
    "print('precision: '+str(precision_score(y_test, spl_tree_pred)))\n",
    "print('recall: '+str(recall_score(y_test, spl_tree_pred)))\n",
    "print('accuray: '+str(accuracy_score(y_test, spl_tree_pred)))\n",
    "print('f1 score: '+str(f1_score(y_test, spl_tree_pred, average='weighted')))"
   ]
  },
  {
   "cell_type": "code",
   "execution_count": 509,
   "metadata": {},
   "outputs": [
    {
     "data": {
      "text/plain": [
       "[Text(154.39042968750002, 212.004, 'przedrostek_Mr <= 0.5\\ngini = 0.473\\nsamples = 623\\nvalue = [384, 239]\\nclass = 0'),\n",
       " Text(76.65468750000001, 201.132, 'Pclass <= 2.5\\ngini = 0.392\\nsamples = 243\\nvalue = [65, 178]\\nclass = 1'),\n",
       " Text(32.400000000000006, 190.26, 'Fare_log_winsor <= 0.566\\ngini = 0.105\\nsamples = 126\\nvalue = [7, 119]\\nclass = 1'),\n",
       " Text(27.0, 179.388, 'Fare_log_winsor <= 0.54\\ngini = 0.208\\nsamples = 51\\nvalue = [6, 45]\\nclass = 1'),\n",
       " Text(24.3, 168.516, 'Age_dziecko <=15 <= 0.5\\ngini = 0.18\\nsamples = 50\\nvalue = [5, 45]\\nclass = 1'),\n",
       " Text(21.6, 157.644, 'SibSp_1 <= 0.5\\ngini = 0.219\\nsamples = 40\\nvalue = [5, 35]\\nclass = 1'),\n",
       " Text(13.5, 146.772, 'Age_ starszy dorosły i osoby starsze 45+ <= 0.5\\ngini = 0.137\\nsamples = 27\\nvalue = [2, 25]\\nclass = 1'),\n",
       " Text(8.100000000000001, 135.9, 'przedrostek_Mrs <= 0.5\\ngini = 0.083\\nsamples = 23\\nvalue = [1, 22]\\nclass = 1'),\n",
       " Text(5.4, 125.02799999999999, 'Age_ dorosły <=45 <= 0.5\\ngini = 0.219\\nsamples = 8\\nvalue = [1, 7]\\nclass = 1'),\n",
       " Text(2.7, 114.156, 'gini = 0.0\\nsamples = 5\\nvalue = [0, 5]\\nclass = 1'),\n",
       " Text(8.100000000000001, 114.156, 'Cabin_DE <= 0.5\\ngini = 0.444\\nsamples = 3\\nvalue = [1, 2]\\nclass = 1'),\n",
       " Text(5.4, 103.28399999999999, 'gini = 0.5\\nsamples = 2\\nvalue = [1, 1]\\nclass = 0'),\n",
       " Text(10.8, 103.28399999999999, 'gini = 0.0\\nsamples = 1\\nvalue = [0, 1]\\nclass = 1'),\n",
       " Text(10.8, 125.02799999999999, 'gini = 0.0\\nsamples = 15\\nvalue = [0, 15]\\nclass = 1'),\n",
       " Text(18.900000000000002, 135.9, 'Fare_log_winsor <= -0.364\\ngini = 0.375\\nsamples = 4\\nvalue = [1, 3]\\nclass = 1'),\n",
       " Text(16.200000000000003, 125.02799999999999, 'gini = 0.0\\nsamples = 1\\nvalue = [1, 0]\\nclass = 0'),\n",
       " Text(21.6, 125.02799999999999, 'gini = 0.0\\nsamples = 3\\nvalue = [0, 3]\\nclass = 1'),\n",
       " Text(29.700000000000003, 146.772, 'Fare_log_winsor <= 0.249\\ngini = 0.355\\nsamples = 13\\nvalue = [3, 10]\\nclass = 1'),\n",
       " Text(27.0, 135.9, 'gini = 0.0\\nsamples = 1\\nvalue = [1, 0]\\nclass = 0'),\n",
       " Text(32.400000000000006, 135.9, 'Parch_1 <= 0.5\\ngini = 0.278\\nsamples = 12\\nvalue = [2, 10]\\nclass = 1'),\n",
       " Text(27.0, 125.02799999999999, 'Age_ dorosły <=45 <= 0.5\\ngini = 0.198\\nsamples = 9\\nvalue = [1, 8]\\nclass = 1'),\n",
       " Text(24.3, 114.156, 'gini = 0.0\\nsamples = 7\\nvalue = [0, 7]\\nclass = 1'),\n",
       " Text(29.700000000000003, 114.156, 'No_ppl_on_ticket_1 <= 0.5\\ngini = 0.5\\nsamples = 2\\nvalue = [1, 1]\\nclass = 0'),\n",
       " Text(27.0, 103.28399999999999, 'gini = 0.0\\nsamples = 1\\nvalue = [1, 0]\\nclass = 0'),\n",
       " Text(32.400000000000006, 103.28399999999999, 'gini = 0.0\\nsamples = 1\\nvalue = [0, 1]\\nclass = 1'),\n",
       " Text(37.800000000000004, 125.02799999999999, 'Fare_log_winsor <= 0.45\\ngini = 0.444\\nsamples = 3\\nvalue = [1, 2]\\nclass = 1'),\n",
       " Text(35.1, 114.156, 'gini = 0.0\\nsamples = 1\\nvalue = [1, 0]\\nclass = 0'),\n",
       " Text(40.5, 114.156, 'gini = 0.0\\nsamples = 2\\nvalue = [0, 2]\\nclass = 1'),\n",
       " Text(27.0, 157.644, 'gini = 0.0\\nsamples = 10\\nvalue = [0, 10]\\nclass = 1'),\n",
       " Text(29.700000000000003, 168.516, 'gini = 0.0\\nsamples = 1\\nvalue = [1, 0]\\nclass = 0'),\n",
       " Text(37.800000000000004, 179.388, 'No_ppl_on_ticket_3 <= 0.5\\ngini = 0.026\\nsamples = 75\\nvalue = [1, 74]\\nclass = 1'),\n",
       " Text(35.1, 168.516, 'gini = 0.0\\nsamples = 66\\nvalue = [0, 66]\\nclass = 1'),\n",
       " Text(40.5, 168.516, 'Parch_2 <= 0.5\\ngini = 0.198\\nsamples = 9\\nvalue = [1, 8]\\nclass = 1'),\n",
       " Text(37.800000000000004, 157.644, 'gini = 0.0\\nsamples = 7\\nvalue = [0, 7]\\nclass = 1'),\n",
       " Text(43.2, 157.644, 'zamężna kobieta <= 0.5\\ngini = 0.5\\nsamples = 2\\nvalue = [1, 1]\\nclass = 0'),\n",
       " Text(40.5, 146.772, 'gini = 0.0\\nsamples = 1\\nvalue = [0, 1]\\nclass = 1'),\n",
       " Text(45.900000000000006, 146.772, 'gini = 0.0\\nsamples = 1\\nvalue = [1, 0]\\nclass = 0'),\n",
       " Text(120.90937500000001, 190.26, 'no_fam_members_duza rodzina <= 0.5\\ngini = 0.5\\nsamples = 117\\nvalue = [58, 59]\\nclass = 1'),\n",
       " Text(98.71875, 179.388, 'Age_dziecko <=15 <= 0.5\\ngini = 0.459\\nsamples = 87\\nvalue = [31, 56]\\nclass = 1'),\n",
       " Text(78.6375, 168.516, 'SibSp_1 <= 0.5\\ngini = 0.5\\nsamples = 44\\nvalue = [22, 22]\\nclass = 0'),\n",
       " Text(70.875, 157.644, 'Age_ dorosły <=45 <= 0.5\\ngini = 0.48\\nsamples = 35\\nvalue = [14, 21]\\nclass = 1'),\n",
       " Text(63.45, 146.772, 'zamężna kobieta <= 0.5\\ngini = 0.436\\nsamples = 28\\nvalue = [9, 19]\\nclass = 1'),\n",
       " Text(60.75000000000001, 135.9, 'Fare_log_winsor <= -0.939\\ngini = 0.483\\nsamples = 22\\nvalue = [9, 13]\\nclass = 1'),\n",
       " Text(48.6, 125.02799999999999, 'Fare_log_winsor <= -1.038\\ngini = 0.278\\nsamples = 12\\nvalue = [2, 10]\\nclass = 1'),\n",
       " Text(45.900000000000006, 114.156, 'gini = 0.0\\nsamples = 1\\nvalue = [1, 0]\\nclass = 0'),\n",
       " Text(51.300000000000004, 114.156, 'Fare_log_winsor <= -0.957\\ngini = 0.165\\nsamples = 11\\nvalue = [1, 10]\\nclass = 1'),\n",
       " Text(48.6, 103.28399999999999, 'gini = 0.0\\nsamples = 7\\nvalue = [0, 7]\\nclass = 1'),\n",
       " Text(54.0, 103.28399999999999, 'Fare_log_winsor <= -0.95\\ngini = 0.375\\nsamples = 4\\nvalue = [1, 3]\\nclass = 1'),\n",
       " Text(51.300000000000004, 92.412, 'gini = 0.5\\nsamples = 2\\nvalue = [1, 1]\\nclass = 0'),\n",
       " Text(56.7, 92.412, 'gini = 0.0\\nsamples = 2\\nvalue = [0, 2]\\nclass = 1'),\n",
       " Text(72.9, 125.02799999999999, 'Fare_log_winsor <= -0.323\\ngini = 0.42\\nsamples = 10\\nvalue = [7, 3]\\nclass = 0'),\n",
       " Text(70.2, 114.156, 'No_ppl_on_ticket_2 <= 0.5\\ngini = 0.469\\nsamples = 8\\nvalue = [5, 3]\\nclass = 0'),\n",
       " Text(67.5, 103.28399999999999, 'Fare_log_winsor <= -0.683\\ngini = 0.408\\nsamples = 7\\nvalue = [5, 2]\\nclass = 0'),\n",
       " Text(62.1, 92.412, 'Fare_log_winsor <= -0.882\\ngini = 0.32\\nsamples = 5\\nvalue = [4, 1]\\nclass = 0'),\n",
       " Text(59.400000000000006, 81.53999999999999, 'Fare_log_winsor <= -0.936\\ngini = 0.444\\nsamples = 3\\nvalue = [2, 1]\\nclass = 0'),\n",
       " Text(56.7, 70.668, 'gini = 0.0\\nsamples = 1\\nvalue = [1, 0]\\nclass = 0'),\n",
       " Text(62.1, 70.668, 'gini = 0.5\\nsamples = 2\\nvalue = [1, 1]\\nclass = 0'),\n",
       " Text(64.80000000000001, 81.53999999999999, 'gini = 0.0\\nsamples = 2\\nvalue = [2, 0]\\nclass = 0'),\n",
       " Text(72.9, 92.412, 'Fare_log_winsor <= -0.645\\ngini = 0.5\\nsamples = 2\\nvalue = [1, 1]\\nclass = 0'),\n",
       " Text(70.2, 81.53999999999999, 'gini = 0.0\\nsamples = 1\\nvalue = [0, 1]\\nclass = 1'),\n",
       " Text(75.60000000000001, 81.53999999999999, 'gini = 0.0\\nsamples = 1\\nvalue = [1, 0]\\nclass = 0'),\n",
       " Text(72.9, 103.28399999999999, 'gini = 0.0\\nsamples = 1\\nvalue = [0, 1]\\nclass = 1'),\n",
       " Text(75.60000000000001, 114.156, 'gini = 0.0\\nsamples = 2\\nvalue = [2, 0]\\nclass = 0'),\n",
       " Text(66.15, 135.9, 'gini = 0.0\\nsamples = 6\\nvalue = [0, 6]\\nclass = 1'),\n",
       " Text(78.30000000000001, 146.772, 'SibSp_0 <= 0.5\\ngini = 0.408\\nsamples = 7\\nvalue = [5, 2]\\nclass = 0'),\n",
       " Text(75.60000000000001, 135.9, 'gini = 0.0\\nsamples = 1\\nvalue = [0, 1]\\nclass = 1'),\n",
       " Text(81.0, 135.9, 'zamężna kobieta <= 0.5\\ngini = 0.278\\nsamples = 6\\nvalue = [5, 1]\\nclass = 0'),\n",
       " Text(78.30000000000001, 125.02799999999999, 'gini = 0.0\\nsamples = 3\\nvalue = [3, 0]\\nclass = 0'),\n",
       " Text(83.7, 125.02799999999999, 'Fare_log_winsor <= -0.533\\ngini = 0.444\\nsamples = 3\\nvalue = [2, 1]\\nclass = 0'),\n",
       " Text(81.0, 114.156, 'gini = 0.0\\nsamples = 1\\nvalue = [0, 1]\\nclass = 1'),\n",
       " Text(86.4, 114.156, 'gini = 0.0\\nsamples = 2\\nvalue = [2, 0]\\nclass = 0'),\n",
       " Text(86.4, 157.644, 'Fare_log_winsor <= -0.939\\ngini = 0.198\\nsamples = 9\\nvalue = [8, 1]\\nclass = 0'),\n",
       " Text(83.7, 146.772, 'gini = 0.0\\nsamples = 1\\nvalue = [0, 1]\\nclass = 1'),\n",
       " Text(89.10000000000001, 146.772, 'gini = 0.0\\nsamples = 8\\nvalue = [8, 0]\\nclass = 0'),\n",
       " Text(118.80000000000001, 168.516, 'No_ppl_on_ticket_2 <= 0.5\\ngini = 0.331\\nsamples = 43\\nvalue = [9, 34]\\nclass = 1'),\n",
       " Text(108.0, 157.644, 'Embarked_S <= 0.5\\ngini = 0.231\\nsamples = 30\\nvalue = [4, 26]\\nclass = 1'),\n",
       " Text(102.60000000000001, 146.772, 'Embarked_C <= 0.5\\ngini = 0.147\\nsamples = 25\\nvalue = [2, 23]\\nclass = 1'),\n",
       " Text(99.9, 135.9, 'Fare_log_winsor <= -0.911\\ngini = 0.231\\nsamples = 15\\nvalue = [2, 13]\\nclass = 1'),\n",
       " Text(94.5, 125.02799999999999, 'Fare_log_winsor <= -0.953\\ngini = 0.142\\nsamples = 13\\nvalue = [1, 12]\\nclass = 1'),\n",
       " Text(91.80000000000001, 114.156, 'Fare_log_winsor <= -0.96\\ngini = 0.219\\nsamples = 8\\nvalue = [1, 7]\\nclass = 1'),\n",
       " Text(89.10000000000001, 103.28399999999999, 'gini = 0.0\\nsamples = 2\\nvalue = [0, 2]\\nclass = 1'),\n",
       " Text(94.5, 103.28399999999999, 'gini = 0.278\\nsamples = 6\\nvalue = [1, 5]\\nclass = 1'),\n",
       " Text(97.2, 114.156, 'gini = 0.0\\nsamples = 5\\nvalue = [0, 5]\\nclass = 1'),\n",
       " Text(105.30000000000001, 125.02799999999999, 'No_ppl_on_ticket_3 <= 0.5\\ngini = 0.5\\nsamples = 2\\nvalue = [1, 1]\\nclass = 0'),\n",
       " Text(102.60000000000001, 114.156, 'gini = 0.0\\nsamples = 1\\nvalue = [1, 0]\\nclass = 0'),\n",
       " Text(108.0, 114.156, 'gini = 0.0\\nsamples = 1\\nvalue = [0, 1]\\nclass = 1'),\n",
       " Text(105.30000000000001, 135.9, 'gini = 0.0\\nsamples = 10\\nvalue = [0, 10]\\nclass = 1'),\n",
       " Text(113.4, 146.772, 'Parch_0 <= 0.5\\ngini = 0.48\\nsamples = 5\\nvalue = [2, 3]\\nclass = 1'),\n",
       " Text(110.7, 135.9, 'gini = 0.0\\nsamples = 3\\nvalue = [0, 3]\\nclass = 1'),\n",
       " Text(116.10000000000001, 135.9, 'gini = 0.0\\nsamples = 2\\nvalue = [2, 0]\\nclass = 0'),\n",
       " Text(129.60000000000002, 157.644, 'Fare_log_winsor <= -0.158\\ngini = 0.473\\nsamples = 13\\nvalue = [5, 8]\\nclass = 1'),\n",
       " Text(124.2, 146.772, 'Embarked_C <= 0.5\\ngini = 0.444\\nsamples = 6\\nvalue = [4, 2]\\nclass = 0'),\n",
       " Text(121.50000000000001, 135.9, 'gini = 0.0\\nsamples = 2\\nvalue = [0, 2]\\nclass = 1'),\n",
       " Text(126.9, 135.9, 'gini = 0.0\\nsamples = 4\\nvalue = [4, 0]\\nclass = 0'),\n",
       " Text(135.0, 146.772, 'Fare_log_winsor <= 0.319\\ngini = 0.245\\nsamples = 7\\nvalue = [1, 6]\\nclass = 1'),\n",
       " Text(132.3, 135.9, 'gini = 0.0\\nsamples = 6\\nvalue = [0, 6]\\nclass = 1'),\n",
       " Text(137.70000000000002, 135.9, 'gini = 0.0\\nsamples = 1\\nvalue = [1, 0]\\nclass = 0'),\n",
       " Text(143.10000000000002, 179.388, 'Fare_log_winsor <= -0.367\\ngini = 0.18\\nsamples = 30\\nvalue = [27, 3]\\nclass = 0'),\n",
       " Text(140.4, 168.516, 'gini = 0.0\\nsamples = 1\\nvalue = [0, 1]\\nclass = 1'),\n",
       " Text(145.8, 168.516, 'No_ppl_on_ticket_3 <= 0.5\\ngini = 0.128\\nsamples = 29\\nvalue = [27, 2]\\nclass = 0'),\n",
       " Text(143.10000000000002, 157.644, 'gini = 0.0\\nsamples = 19\\nvalue = [19, 0]\\nclass = 0'),\n",
       " Text(148.5, 157.644, 'SibSp_1 <= 0.5\\ngini = 0.32\\nsamples = 10\\nvalue = [8, 2]\\nclass = 0'),\n",
       " Text(145.8, 146.772, 'SibSp_4 <= 0.5\\ngini = 0.198\\nsamples = 9\\nvalue = [8, 1]\\nclass = 0'),\n",
       " Text(143.10000000000002, 135.9, 'gini = 0.0\\nsamples = 7\\nvalue = [7, 0]\\nclass = 0'),\n",
       " Text(148.5, 135.9, 'przedrostek_Miss <= 0.5\\ngini = 0.5\\nsamples = 2\\nvalue = [1, 1]\\nclass = 0'),\n",
       " Text(145.8, 125.02799999999999, 'gini = 0.0\\nsamples = 1\\nvalue = [1, 0]\\nclass = 0'),\n",
       " Text(151.20000000000002, 125.02799999999999, 'gini = 0.0\\nsamples = 1\\nvalue = [0, 1]\\nclass = 1'),\n",
       " Text(151.20000000000002, 146.772, 'gini = 0.0\\nsamples = 1\\nvalue = [0, 1]\\nclass = 1'),\n",
       " Text(232.126171875, 201.132, 'Cabin_O <= 0.5\\ngini = 0.27\\nsamples = 380\\nvalue = [319, 61]\\nclass = 0'),\n",
       " Text(185.28750000000002, 190.26, 'Cabin_DE <= 0.5\\ngini = 0.491\\nsamples = 60\\nvalue = [34, 26]\\nclass = 0'),\n",
       " Text(165.375, 179.388, 'Fare_log_winsor <= 0.575\\ngini = 0.456\\nsamples = 37\\nvalue = [24, 13]\\nclass = 0'),\n",
       " Text(162.675, 168.516, 'gini = 0.0\\nsamples = 6\\nvalue = [6, 0]\\nclass = 0'),\n",
       " Text(168.07500000000002, 168.516, 'Fare_log_winsor <= 0.634\\ngini = 0.487\\nsamples = 31\\nvalue = [18, 13]\\nclass = 0'),\n",
       " Text(159.3, 157.644, 'Fare_log_winsor <= 0.605\\ngini = 0.375\\nsamples = 8\\nvalue = [2, 6]\\nclass = 1'),\n",
       " Text(156.60000000000002, 146.772, 'Age_dziecko <=15 <= 0.5\\ngini = 0.444\\nsamples = 3\\nvalue = [2, 1]\\nclass = 0'),\n",
       " Text(153.9, 135.9, 'gini = 0.0\\nsamples = 2\\nvalue = [2, 0]\\nclass = 0'),\n",
       " Text(159.3, 135.9, 'gini = 0.0\\nsamples = 1\\nvalue = [0, 1]\\nclass = 1'),\n",
       " Text(162.0, 146.772, 'gini = 0.0\\nsamples = 5\\nvalue = [0, 5]\\nclass = 1'),\n",
       " Text(176.85000000000002, 157.644, 'Parch_2 <= 0.5\\ngini = 0.423\\nsamples = 23\\nvalue = [16, 7]\\nclass = 0'),\n",
       " Text(174.15, 146.772, 'SibSp_1 <= 0.5\\ngini = 0.397\\nsamples = 22\\nvalue = [16, 6]\\nclass = 0'),\n",
       " Text(164.70000000000002, 135.9, 'Embarked_S <= 0.5\\ngini = 0.305\\nsamples = 16\\nvalue = [13, 3]\\nclass = 0'),\n",
       " Text(162.0, 125.02799999999999, 'Age_ dorosły <=45 <= 0.5\\ngini = 0.42\\nsamples = 10\\nvalue = [7, 3]\\nclass = 0'),\n",
       " Text(156.60000000000002, 114.156, 'Fare_log_winsor <= 1.132\\ngini = 0.245\\nsamples = 7\\nvalue = [6, 1]\\nclass = 0'),\n",
       " Text(153.9, 103.28399999999999, 'Fare_log_winsor <= 0.793\\ngini = 0.444\\nsamples = 3\\nvalue = [2, 1]\\nclass = 0'),\n",
       " Text(151.20000000000002, 92.412, 'gini = 0.0\\nsamples = 2\\nvalue = [2, 0]\\nclass = 0'),\n",
       " Text(156.60000000000002, 92.412, 'gini = 0.0\\nsamples = 1\\nvalue = [0, 1]\\nclass = 1'),\n",
       " Text(159.3, 103.28399999999999, 'gini = 0.0\\nsamples = 4\\nvalue = [4, 0]\\nclass = 0'),\n",
       " Text(167.4, 114.156, 'Fare_log_winsor <= 0.799\\ngini = 0.444\\nsamples = 3\\nvalue = [1, 2]\\nclass = 1'),\n",
       " Text(164.70000000000002, 103.28399999999999, 'gini = 0.0\\nsamples = 1\\nvalue = [0, 1]\\nclass = 1'),\n",
       " Text(170.10000000000002, 103.28399999999999, 'Fare_log_winsor <= 1.542\\ngini = 0.5\\nsamples = 2\\nvalue = [1, 1]\\nclass = 0'),\n",
       " Text(167.4, 92.412, 'gini = 0.0\\nsamples = 1\\nvalue = [1, 0]\\nclass = 0'),\n",
       " Text(172.8, 92.412, 'gini = 0.0\\nsamples = 1\\nvalue = [0, 1]\\nclass = 1'),\n",
       " Text(167.4, 125.02799999999999, 'gini = 0.0\\nsamples = 6\\nvalue = [6, 0]\\nclass = 0'),\n",
       " Text(183.60000000000002, 135.9, 'Fare_log_winsor <= 1.989\\ngini = 0.5\\nsamples = 6\\nvalue = [3, 3]\\nclass = 0'),\n",
       " Text(180.9, 125.02799999999999, 'Fare_log_winsor <= 1.809\\ngini = 0.375\\nsamples = 4\\nvalue = [1, 3]\\nclass = 1'),\n",
       " Text(178.20000000000002, 114.156, 'No_ppl_on_ticket_1 <= 0.5\\ngini = 0.5\\nsamples = 2\\nvalue = [1, 1]\\nclass = 0'),\n",
       " Text(175.5, 103.28399999999999, 'gini = 0.0\\nsamples = 1\\nvalue = [0, 1]\\nclass = 1'),\n",
       " Text(180.9, 103.28399999999999, 'gini = 0.0\\nsamples = 1\\nvalue = [1, 0]\\nclass = 0'),\n",
       " Text(183.60000000000002, 114.156, 'gini = 0.0\\nsamples = 2\\nvalue = [0, 2]\\nclass = 1'),\n",
       " Text(186.3, 125.02799999999999, 'gini = 0.0\\nsamples = 2\\nvalue = [2, 0]\\nclass = 0'),\n",
       " Text(179.55, 146.772, 'gini = 0.0\\nsamples = 1\\nvalue = [0, 1]\\nclass = 1'),\n",
       " Text(205.20000000000002, 179.388, 'Age_ starszy dorosły i osoby starsze 45+ <= 0.5\\ngini = 0.491\\nsamples = 23\\nvalue = [10, 13]\\nclass = 1'),\n",
       " Text(193.05, 168.516, 'Age_ młody dorosły <=30 <= 0.5\\ngini = 0.355\\nsamples = 13\\nvalue = [3, 10]\\nclass = 1'),\n",
       " Text(187.65, 157.644, 'Embarked_C <= 0.5\\ngini = 0.198\\nsamples = 9\\nvalue = [1, 8]\\nclass = 1'),\n",
       " Text(184.95000000000002, 146.772, 'gini = 0.0\\nsamples = 8\\nvalue = [0, 8]\\nclass = 1'),\n",
       " Text(190.35000000000002, 146.772, 'gini = 0.0\\nsamples = 1\\nvalue = [1, 0]\\nclass = 0'),\n",
       " Text(198.45000000000002, 157.644, 'Embarked_S <= 0.5\\ngini = 0.5\\nsamples = 4\\nvalue = [2, 2]\\nclass = 0'),\n",
       " Text(195.75, 146.772, 'gini = 0.0\\nsamples = 1\\nvalue = [0, 1]\\nclass = 1'),\n",
       " Text(201.15, 146.772, 'No_ppl_on_ticket_2 <= 0.5\\ngini = 0.444\\nsamples = 3\\nvalue = [2, 1]\\nclass = 0'),\n",
       " Text(198.45000000000002, 135.9, 'gini = 0.0\\nsamples = 2\\nvalue = [2, 0]\\nclass = 0'),\n",
       " Text(203.85000000000002, 135.9, 'gini = 0.0\\nsamples = 1\\nvalue = [0, 1]\\nclass = 1'),\n",
       " Text(217.35000000000002, 168.516, 'Embarked_C <= 0.5\\ngini = 0.42\\nsamples = 10\\nvalue = [7, 3]\\nclass = 0'),\n",
       " Text(214.65, 157.644, 'Fare_log_winsor <= 0.685\\ngini = 0.346\\nsamples = 9\\nvalue = [7, 2]\\nclass = 0'),\n",
       " Text(211.95000000000002, 146.772, 'Fare_log_winsor <= 0.447\\ngini = 0.5\\nsamples = 4\\nvalue = [2, 2]\\nclass = 0'),\n",
       " Text(209.25, 135.9, 'gini = 0.0\\nsamples = 1\\nvalue = [1, 0]\\nclass = 0'),\n",
       " Text(214.65, 135.9, 'gini = 0.444\\nsamples = 3\\nvalue = [1, 2]\\nclass = 1'),\n",
       " Text(217.35000000000002, 146.772, 'gini = 0.0\\nsamples = 5\\nvalue = [5, 0]\\nclass = 0'),\n",
       " Text(220.05, 157.644, 'gini = 0.0\\nsamples = 1\\nvalue = [0, 1]\\nclass = 1'),\n",
       " Text(278.96484375, 190.26, 'No_ppl_on_ticket_3+ <= 0.5\\ngini = 0.195\\nsamples = 320\\nvalue = [285, 35]\\nclass = 0'),\n",
       " Text(253.33593750000003, 179.388, 'Fare_log_winsor <= -0.96\\ngini = 0.18\\nsamples = 310\\nvalue = [279, 31]\\nclass = 0'),\n",
       " Text(230.85000000000002, 168.516, 'Embarked_C <= 0.5\\ngini = 0.091\\nsamples = 63\\nvalue = [60, 3]\\nclass = 0'),\n",
       " Text(225.45000000000002, 157.644, 'Age_ młody dorosły <=30 <= 0.5\\ngini = 0.042\\nsamples = 47\\nvalue = [46, 1]\\nclass = 0'),\n",
       " Text(222.75000000000003, 146.772, 'gini = 0.0\\nsamples = 29\\nvalue = [29, 0]\\nclass = 0'),\n",
       " Text(228.15, 146.772, 'Fare_log_winsor <= -1.038\\ngini = 0.105\\nsamples = 18\\nvalue = [17, 1]\\nclass = 0'),\n",
       " Text(225.45000000000002, 135.9, 'SibSp_0 <= 0.5\\ngini = 0.198\\nsamples = 9\\nvalue = [8, 1]\\nclass = 0'),\n",
       " Text(222.75000000000003, 125.02799999999999, 'gini = 0.0\\nsamples = 2\\nvalue = [2, 0]\\nclass = 0'),\n",
       " Text(228.15, 125.02799999999999, 'No_ppl_on_ticket_1 <= 0.5\\ngini = 0.245\\nsamples = 7\\nvalue = [6, 1]\\nclass = 0'),\n",
       " Text(225.45000000000002, 114.156, 'gini = 0.0\\nsamples = 1\\nvalue = [1, 0]\\nclass = 0'),\n",
       " Text(230.85000000000002, 114.156, 'gini = 0.278\\nsamples = 6\\nvalue = [5, 1]\\nclass = 0'),\n",
       " Text(230.85000000000002, 135.9, 'gini = 0.0\\nsamples = 9\\nvalue = [9, 0]\\nclass = 0'),\n",
       " Text(236.25000000000003, 157.644, 'Fare_log_winsor <= -1.04\\ngini = 0.219\\nsamples = 16\\nvalue = [14, 2]\\nclass = 0'),\n",
       " Text(233.55, 146.772, 'gini = 0.0\\nsamples = 6\\nvalue = [6, 0]\\nclass = 0'),\n",
       " Text(238.95000000000002, 146.772, 'Age_dziecko <=15 <= 0.5\\ngini = 0.32\\nsamples = 10\\nvalue = [8, 2]\\nclass = 0'),\n",
       " Text(236.25000000000003, 135.9, 'gini = 0.375\\nsamples = 4\\nvalue = [3, 1]\\nclass = 0'),\n",
       " Text(241.65, 135.9, 'gini = 0.278\\nsamples = 6\\nvalue = [5, 1]\\nclass = 0'),\n",
       " Text(275.82187500000003, 168.516, 'Fare_log_winsor <= -0.952\\ngini = 0.201\\nsamples = 247\\nvalue = [219, 28]\\nclass = 0'),\n",
       " Text(252.45000000000002, 157.644, 'Age_ starszy dorosły i osoby starsze 45+ <= 0.5\\ngini = 0.33\\nsamples = 24\\nvalue = [19, 5]\\nclass = 0'),\n",
       " Text(249.75000000000003, 146.772, 'Age_ dorosły <=45 <= 0.5\\ngini = 0.375\\nsamples = 20\\nvalue = [15, 5]\\nclass = 0'),\n",
       " Text(247.05, 135.9, 'SibSp_0 <= 0.5\\ngini = 0.43\\nsamples = 16\\nvalue = [11, 5]\\nclass = 0'),\n",
       " Text(240.3, 125.02799999999999, 'Embarked_Q <= 0.5\\ngini = 0.5\\nsamples = 2\\nvalue = [1, 1]\\nclass = 0'),\n",
       " Text(237.60000000000002, 114.156, 'gini = 0.0\\nsamples = 1\\nvalue = [0, 1]\\nclass = 1'),\n",
       " Text(243.00000000000003, 114.156, 'gini = 0.0\\nsamples = 1\\nvalue = [1, 0]\\nclass = 0'),\n",
       " Text(253.8, 125.02799999999999, 'Embarked_Q <= 0.5\\ngini = 0.408\\nsamples = 14\\nvalue = [10, 4]\\nclass = 0'),\n",
       " Text(248.4, 114.156, 'Age_ młody dorosły <=30 <= 0.5\\ngini = 0.32\\nsamples = 10\\nvalue = [8, 2]\\nclass = 0'),\n",
       " Text(245.70000000000002, 103.28399999999999, 'gini = 0.5\\nsamples = 2\\nvalue = [1, 1]\\nclass = 0'),\n",
       " Text(251.10000000000002, 103.28399999999999, 'Fare_log_winsor <= -0.954\\ngini = 0.219\\nsamples = 8\\nvalue = [7, 1]\\nclass = 0'),\n",
       " Text(248.4, 92.412, 'gini = 0.0\\nsamples = 4\\nvalue = [4, 0]\\nclass = 0'),\n",
       " Text(253.8, 92.412, 'gini = 0.375\\nsamples = 4\\nvalue = [3, 1]\\nclass = 0'),\n",
       " Text(259.20000000000005, 114.156, 'Age_dziecko <=15 <= 0.5\\ngini = 0.5\\nsamples = 4\\nvalue = [2, 2]\\nclass = 0'),\n",
       " Text(256.5, 103.28399999999999, 'gini = 0.0\\nsamples = 1\\nvalue = [0, 1]\\nclass = 1'),\n",
       " Text(261.90000000000003, 103.28399999999999, 'gini = 0.444\\nsamples = 3\\nvalue = [2, 1]\\nclass = 0'),\n",
       " Text(252.45000000000002, 135.9, 'gini = 0.0\\nsamples = 4\\nvalue = [4, 0]\\nclass = 0'),\n",
       " Text(255.15, 146.772, 'gini = 0.0\\nsamples = 4\\nvalue = [4, 0]\\nclass = 0'),\n",
       " Text(299.19375, 157.644, 'Age_ dorosły <=45 <= 0.5\\ngini = 0.185\\nsamples = 223\\nvalue = [200, 23]\\nclass = 0'),\n",
       " Text(287.88750000000005, 146.772, 'SibSp_2 <= 0.5\\ngini = 0.145\\nsamples = 165\\nvalue = [152, 13]\\nclass = 0'),\n",
       " Text(280.125, 135.9, 'Age_ młody dorosły <=30 <= 0.5\\ngini = 0.13\\nsamples = 158\\nvalue = [147, 11]\\nclass = 0'),\n",
       " Text(272.70000000000005, 125.02799999999999, 'Pclass <= 2.5\\ngini = 0.059\\nsamples = 66\\nvalue = [64, 2]\\nclass = 0'),\n",
       " Text(270.0, 114.156, 'Age_dziecko <=15 <= 0.5\\ngini = 0.147\\nsamples = 25\\nvalue = [23, 2]\\nclass = 0'),\n",
       " Text(267.3, 103.28399999999999, 'gini = 0.0\\nsamples = 15\\nvalue = [15, 0]\\nclass = 0'),\n",
       " Text(272.70000000000005, 103.28399999999999, 'Fare_log_winsor <= -0.239\\ngini = 0.32\\nsamples = 10\\nvalue = [8, 2]\\nclass = 0'),\n",
       " Text(270.0, 92.412, 'gini = 0.0\\nsamples = 1\\nvalue = [0, 1]\\nclass = 1'),\n",
       " Text(275.40000000000003, 92.412, 'Fare_log_winsor <= 0.494\\ngini = 0.198\\nsamples = 9\\nvalue = [8, 1]\\nclass = 0'),\n",
       " Text(272.70000000000005, 81.53999999999999, 'Fare_log_winsor <= 0.455\\ngini = 0.444\\nsamples = 3\\nvalue = [2, 1]\\nclass = 0'),\n",
       " Text(270.0, 70.668, 'gini = 0.0\\nsamples = 2\\nvalue = [2, 0]\\nclass = 0'),\n",
       " Text(275.40000000000003, 70.668, 'gini = 0.0\\nsamples = 1\\nvalue = [0, 1]\\nclass = 1'),\n",
       " Text(278.1, 81.53999999999999, 'gini = 0.0\\nsamples = 6\\nvalue = [6, 0]\\nclass = 0'),\n",
       " Text(275.40000000000003, 114.156, 'gini = 0.0\\nsamples = 41\\nvalue = [41, 0]\\nclass = 0'),\n",
       " Text(287.55, 125.02799999999999, 'Pclass <= 2.5\\ngini = 0.177\\nsamples = 92\\nvalue = [83, 9]\\nclass = 0'),\n",
       " Text(280.8, 114.156, 'Fare_log_winsor <= -0.556\\ngini = 0.061\\nsamples = 32\\nvalue = [31, 1]\\nclass = 0'),\n",
       " Text(278.1, 103.28399999999999, 'gini = 0.245\\nsamples = 7\\nvalue = [6, 1]\\nclass = 0'),\n",
       " Text(283.5, 103.28399999999999, 'gini = 0.0\\nsamples = 25\\nvalue = [25, 0]\\nclass = 0'),\n",
       " Text(294.3, 114.156, 'Embarked_S <= 0.5\\ngini = 0.231\\nsamples = 60\\nvalue = [52, 8]\\nclass = 0'),\n",
       " Text(288.90000000000003, 103.28399999999999, 'Fare_log_winsor <= -0.188\\ngini = 0.5\\nsamples = 4\\nvalue = [2, 2]\\nclass = 0'),\n",
       " Text(286.20000000000005, 92.412, 'gini = 0.0\\nsamples = 2\\nvalue = [2, 0]\\nclass = 0'),\n",
       " Text(291.6, 92.412, 'gini = 0.0\\nsamples = 2\\nvalue = [0, 2]\\nclass = 1'),\n",
       " Text(299.70000000000005, 103.28399999999999, 'Fare_log_winsor <= -0.936\\ngini = 0.191\\nsamples = 56\\nvalue = [50, 6]\\nclass = 0'),\n",
       " Text(297.0, 92.412, 'gini = 0.0\\nsamples = 16\\nvalue = [16, 0]\\nclass = 0'),\n",
       " Text(302.40000000000003, 92.412, 'Fare_log_winsor <= -0.685\\ngini = 0.255\\nsamples = 40\\nvalue = [34, 6]\\nclass = 0'),\n",
       " Text(299.70000000000005, 81.53999999999999, 'SibSp_0 <= 0.5\\ngini = 0.305\\nsamples = 32\\nvalue = [26, 6]\\nclass = 0'),\n",
       " Text(297.0, 70.668, 'gini = 0.0\\nsamples = 1\\nvalue = [0, 1]\\nclass = 1'),\n",
       " Text(302.40000000000003, 70.668, 'Fare_log_winsor <= -0.725\\ngini = 0.271\\nsamples = 31\\nvalue = [26, 5]\\nclass = 0'),\n",
       " Text(297.0, 59.79599999999999, 'Fare_log_winsor <= -0.809\\ngini = 0.211\\nsamples = 25\\nvalue = [22, 3]\\nclass = 0'),\n",
       " Text(294.3, 48.92400000000001, 'Fare_log_winsor <= -0.924\\ngini = 0.245\\nsamples = 21\\nvalue = [18, 3]\\nclass = 0'),\n",
       " Text(291.6, 38.05199999999999, 'gini = 0.0\\nsamples = 2\\nvalue = [2, 0]\\nclass = 0'),\n",
       " Text(297.0, 38.05199999999999, 'Fare_log_winsor <= -0.908\\ngini = 0.266\\nsamples = 19\\nvalue = [16, 3]\\nclass = 0'),\n",
       " Text(291.6, 27.180000000000007, 'Czy dziecko <= 0.5\\ngini = 0.298\\nsamples = 11\\nvalue = [9, 2]\\nclass = 0'),\n",
       " Text(288.90000000000003, 16.307999999999993, 'gini = 0.198\\nsamples = 9\\nvalue = [8, 1]\\nclass = 0'),\n",
       " Text(294.3, 16.307999999999993, 'gini = 0.5\\nsamples = 2\\nvalue = [1, 1]\\nclass = 0'),\n",
       " Text(302.40000000000003, 27.180000000000007, 'Fare_log_winsor <= -0.846\\ngini = 0.219\\nsamples = 8\\nvalue = [7, 1]\\nclass = 0'),\n",
       " Text(299.70000000000005, 16.307999999999993, 'gini = 0.0\\nsamples = 3\\nvalue = [3, 0]\\nclass = 0'),\n",
       " Text(305.1, 16.307999999999993, 'Czy dziecko <= 0.5\\ngini = 0.32\\nsamples = 5\\nvalue = [4, 1]\\nclass = 0'),\n",
       " Text(302.40000000000003, 5.436000000000007, 'gini = 0.5\\nsamples = 2\\nvalue = [1, 1]\\nclass = 0'),\n",
       " Text(307.8, 5.436000000000007, 'gini = 0.0\\nsamples = 3\\nvalue = [3, 0]\\nclass = 0'),\n",
       " Text(299.70000000000005, 48.92400000000001, 'gini = 0.0\\nsamples = 4\\nvalue = [4, 0]\\nclass = 0'),\n",
       " Text(307.8, 59.79599999999999, 'Czy dziecko <= 0.5\\ngini = 0.444\\nsamples = 6\\nvalue = [4, 2]\\nclass = 0'),\n",
       " Text(305.1, 48.92400000000001, 'gini = 0.48\\nsamples = 5\\nvalue = [3, 2]\\nclass = 0'),\n",
       " Text(310.5, 48.92400000000001, 'gini = 0.0\\nsamples = 1\\nvalue = [1, 0]\\nclass = 0'),\n",
       " Text(305.1, 81.53999999999999, 'gini = 0.0\\nsamples = 8\\nvalue = [8, 0]\\nclass = 0'),\n",
       " Text(295.65000000000003, 135.9, 'No_ppl_on_ticket_2 <= 0.5\\ngini = 0.408\\nsamples = 7\\nvalue = [5, 2]\\nclass = 0'),\n",
       " Text(292.95000000000005, 125.02799999999999, 'gini = 0.0\\nsamples = 5\\nvalue = [5, 0]\\nclass = 0'),\n",
       " Text(298.35, 125.02799999999999, 'gini = 0.0\\nsamples = 2\\nvalue = [0, 2]\\nclass = 1'),\n",
       " Text(310.5, 146.772, 'Fare_log_winsor <= -0.941\\ngini = 0.285\\nsamples = 58\\nvalue = [48, 10]\\nclass = 0'),\n",
       " Text(307.8, 135.9, 'gini = 0.0\\nsamples = 1\\nvalue = [0, 1]\\nclass = 1'),\n",
       " Text(313.20000000000005, 135.9, 'Pclass <= 1.5\\ngini = 0.266\\nsamples = 57\\nvalue = [48, 9]\\nclass = 0'),\n",
       " Text(305.1, 125.02799999999999, 'Fare_log_winsor <= 0.494\\ngini = 0.48\\nsamples = 5\\nvalue = [3, 2]\\nclass = 0'),\n",
       " Text(302.40000000000003, 114.156, 'gini = 0.0\\nsamples = 2\\nvalue = [0, 2]\\nclass = 1'),\n",
       " Text(307.8, 114.156, 'gini = 0.0\\nsamples = 3\\nvalue = [3, 0]\\nclass = 0'),\n",
       " Text(321.3, 125.02799999999999, 'Fare_log_winsor <= -0.924\\ngini = 0.233\\nsamples = 52\\nvalue = [45, 7]\\nclass = 0'),\n",
       " Text(313.20000000000005, 114.156, 'Fare_log_winsor <= -0.936\\ngini = 0.391\\nsamples = 15\\nvalue = [11, 4]\\nclass = 0'),\n",
       " Text(310.5, 103.28399999999999, 'gini = 0.0\\nsamples = 7\\nvalue = [7, 0]\\nclass = 0'),\n",
       " Text(315.90000000000003, 103.28399999999999, 'SibSp_0 <= 0.5\\ngini = 0.5\\nsamples = 8\\nvalue = [4, 4]\\nclass = 0'),\n",
       " Text(313.20000000000005, 92.412, 'gini = 0.0\\nsamples = 1\\nvalue = [1, 0]\\nclass = 0'),\n",
       " Text(318.6, 92.412, 'gini = 0.49\\nsamples = 7\\nvalue = [3, 4]\\nclass = 1'),\n",
       " Text(329.40000000000003, 114.156, 'Pclass <= 2.5\\ngini = 0.149\\nsamples = 37\\nvalue = [34, 3]\\nclass = 0'),\n",
       " Text(326.70000000000005, 103.28399999999999, 'Fare_log_winsor <= 0.45\\ngini = 0.227\\nsamples = 23\\nvalue = [20, 3]\\nclass = 0'),\n",
       " Text(324.0, 92.412, 'No_ppl_on_ticket_2 <= 0.5\\ngini = 0.278\\nsamples = 18\\nvalue = [15, 3]\\nclass = 0'),\n",
       " Text(318.6, 81.53999999999999, 'Fare_log_winsor <= -0.083\\ngini = 0.219\\nsamples = 16\\nvalue = [14, 2]\\nclass = 0'),\n",
       " Text(315.90000000000003, 70.668, 'Fare_log_winsor <= -0.485\\ngini = 0.298\\nsamples = 11\\nvalue = [9, 2]\\nclass = 0'),\n",
       " Text(313.20000000000005, 59.79599999999999, 'gini = 0.0\\nsamples = 4\\nvalue = [4, 0]\\nclass = 0'),\n",
       " Text(318.6, 59.79599999999999, 'gini = 0.408\\nsamples = 7\\nvalue = [5, 2]\\nclass = 0'),\n",
       " Text(321.3, 70.668, 'gini = 0.0\\nsamples = 5\\nvalue = [5, 0]\\nclass = 0'),\n",
       " Text(329.40000000000003, 81.53999999999999, 'no_fam_members_mała rodzina <= 0.5\\ngini = 0.5\\nsamples = 2\\nvalue = [1, 1]\\nclass = 0'),\n",
       " Text(326.70000000000005, 70.668, 'gini = 0.0\\nsamples = 1\\nvalue = [1, 0]\\nclass = 0'),\n",
       " Text(332.1, 70.668, 'gini = 0.0\\nsamples = 1\\nvalue = [0, 1]\\nclass = 1'),\n",
       " Text(329.40000000000003, 92.412, 'gini = 0.0\\nsamples = 5\\nvalue = [5, 0]\\nclass = 0'),\n",
       " Text(332.1, 103.28399999999999, 'gini = 0.0\\nsamples = 14\\nvalue = [14, 0]\\nclass = 0'),\n",
       " Text(304.59375, 179.388, 'SibSp_0 <= 0.5\\ngini = 0.48\\nsamples = 10\\nvalue = [6, 4]\\nclass = 0'),\n",
       " Text(301.89375, 168.516, 'gini = 0.0\\nsamples = 5\\nvalue = [5, 0]\\nclass = 0'),\n",
       " Text(307.29375000000005, 168.516, 'Age_ młody dorosły <=30 <= 0.5\\ngini = 0.32\\nsamples = 5\\nvalue = [1, 4]\\nclass = 1'),\n",
       " Text(304.59375, 157.644, 'gini = 0.0\\nsamples = 3\\nvalue = [0, 3]\\nclass = 1'),\n",
       " Text(309.99375000000003, 157.644, 'gini = 0.5\\nsamples = 2\\nvalue = [1, 1]\\nclass = 0')]"
      ]
     },
     "execution_count": 509,
     "metadata": {},
     "output_type": "execute_result"
    },
    {
     "data": {
      "image/png": "[encoded data removed]",
      "text/plain": [
       "<Figure size 432x288 with 1 Axes>"
      ]
     },
     "metadata": {
      "needs_background": "light"
     },
     "output_type": "display_data"
    }
   ],
   "source": [
    "tree.plot_tree(clf, \n",
    "                   feature_names=list(X_train.columns),  \n",
    "                   class_names=['0','1'],\n",
    "                   filled=True)"
   ]
  },
  {
   "cell_type": "code",
   "execution_count": 510,
   "metadata": {},
   "outputs": [],
   "source": [
    "# tuning drzewa"
   ]
  },
  {
   "cell_type": "code",
   "execution_count": 511,
   "metadata": {},
   "outputs": [
    {
     "name": "stdout",
     "output_type": "stream",
     "text": [
      "Fitting 3 folds for each of 3528 candidates, totalling 10584 fits\n"
     ]
    },
    {
     "name": "stderr",
     "output_type": "stream",
     "text": [
      "[Parallel(n_jobs=1)]: Using backend SequentialBackend with 1 concurrent workers.\n",
      "[Parallel(n_jobs=1)]: Done 10584 out of 10584 | elapsed:   49.6s finished\n"
     ]
    },
    {
     "data": {
      "text/plain": [
       "GridSearchCV(cv=3, error_score=nan,\n",
       "             estimator=DecisionTreeClassifier(ccp_alpha=0.0, class_weight=None,\n",
       "                                              criterion='gini', max_depth=None,\n",
       "                                              max_features=None,\n",
       "                                              max_leaf_nodes=None,\n",
       "                                              min_impurity_decrease=0.0,\n",
       "                                              min_impurity_split=None,\n",
       "                                              min_samples_leaf=1,\n",
       "                                              min_samples_split=2,\n",
       "                                              min_weight_fraction_leaf=0.0,\n",
       "                                              presort='deprecated',\n",
       "                                              random_state=42,\n",
       "                                              splitter='best'),\n",
       "             iid='deprecated', n_jobs=None,\n",
       "             param_grid={'criterion': ['gini', 'entropy'],\n",
       "                         'max_depth': [2, 4, 6, 8, 10, 12],\n",
       "                         'max_leaf_nodes': [2, 3, 4, 5, 6, 7, 8, 9, 10, 11, 12,\n",
       "                                            13, 14, 15, 16, 17, 18, 19, 20, 21,\n",
       "                                            22, 23, 24, 25, 26, 27, 28, 29, 30,\n",
       "                                            31, ...],\n",
       "                         'min_samples_split': [2, 3, 4]},\n",
       "             pre_dispatch='2*n_jobs', refit=True, return_train_score=False,\n",
       "             scoring=None, verbose=1)"
      ]
     },
     "execution_count": 511,
     "metadata": {},
     "output_type": "execute_result"
    }
   ],
   "source": [
    "params = {'max_leaf_nodes': list(range(2, 100)), 'min_samples_split': [2, 3, 4]\n",
    "         , 'max_depth' : [2,4,6,8,10,12], 'criterion': ['gini', 'entropy']\n",
    "         }\n",
    "grid_search_cv = GridSearchCV(DecisionTreeClassifier(random_state=42), params, verbose=1, cv=3)\n",
    "grid_search_cv.fit(X_train, y_train)"
   ]
  },
  {
   "cell_type": "code",
   "execution_count": 512,
   "metadata": {},
   "outputs": [
    {
     "data": {
      "text/plain": [
       "DecisionTreeClassifier(ccp_alpha=0.0, class_weight=None, criterion='gini',\n",
       "                       max_depth=8, max_features=None, max_leaf_nodes=30,\n",
       "                       min_impurity_decrease=0.0, min_impurity_split=None,\n",
       "                       min_samples_leaf=1, min_samples_split=3,\n",
       "                       min_weight_fraction_leaf=0.0, presort='deprecated',\n",
       "                       random_state=42, splitter='best')"
      ]
     },
     "execution_count": 512,
     "metadata": {},
     "output_type": "execute_result"
    }
   ],
   "source": [
    "grid_search_cv.best_estimator_"
   ]
  },
  {
   "cell_type": "code",
   "execution_count": 514,
   "metadata": {},
   "outputs": [],
   "source": [
    "tree_tun = DecisionTreeClassifier(ccp_alpha=0.0, class_weight=None, criterion='gini',\n",
    "                       max_depth=8, max_features=None, max_leaf_nodes=30,\n",
    "                       min_impurity_decrease=0.0, min_impurity_split=None,\n",
    "                       min_samples_leaf=1, min_samples_split=3,\n",
    "                       min_weight_fraction_leaf=0.0, presort='deprecated',\n",
    "                       random_state=42, splitter='best')"
   ]
  },
  {
   "cell_type": "code",
   "execution_count": 515,
   "metadata": {},
   "outputs": [
    {
     "data": {
      "text/plain": [
       "DecisionTreeClassifier(ccp_alpha=0.0, class_weight=None, criterion='gini',\n",
       "                       max_depth=8, max_features=None, max_leaf_nodes=30,\n",
       "                       min_impurity_decrease=0.0, min_impurity_split=None,\n",
       "                       min_samples_leaf=1, min_samples_split=3,\n",
       "                       min_weight_fraction_leaf=0.0, presort='deprecated',\n",
       "                       random_state=42, splitter='best')"
      ]
     },
     "execution_count": 515,
     "metadata": {},
     "output_type": "execute_result"
    }
   ],
   "source": [
    "tree_tun.fit(X_train, y_train)"
   ]
  },
  {
   "cell_type": "code",
   "execution_count": 516,
   "metadata": {},
   "outputs": [],
   "source": [
    "tun_tree_pred = tree_tun.predict(X_test)"
   ]
  },
  {
   "cell_type": "code",
   "execution_count": 517,
   "metadata": {},
   "outputs": [
    {
     "name": "stdout",
     "output_type": "stream",
     "text": [
      "precision: 0.6833333333333333\n",
      "recall: 0.7961165048543689\n",
      "accuray: 0.7798507462686567\n",
      "f1 score: 0.7822635914255283\n"
     ]
    }
   ],
   "source": [
    "print('precision: '+str(precision_score(y_test, tun_tree_pred)))\n",
    "print('recall: '+str(recall_score(y_test, tun_tree_pred)))\n",
    "print('accuray: '+str(accuracy_score(y_test, tun_tree_pred)))\n",
    "print('f1 score: '+str(f1_score(y_test, tun_tree_pred, average='weighted')))"
   ]
  },
  {
   "cell_type": "code",
   "execution_count": 518,
   "metadata": {},
   "outputs": [
    {
     "data": {
      "text/plain": [
       "[Text(208.20375, 205.35999999999999, 'przedrostek_Mr <= 0.5\\ngini = 0.473\\nsamples = 623\\nvalue = [384, 239]\\nclass = 0'),\n",
       " Text(129.735, 181.2, 'Pclass <= 2.5\\ngini = 0.392\\nsamples = 243\\nvalue = [65, 178]\\nclass = 1'),\n",
       " Text(121.36500000000001, 157.04, 'gini = 0.105\\nsamples = 126\\nvalue = [7, 119]\\nclass = 1'),\n",
       " Text(138.10500000000002, 157.04, 'no_fam_members_duza rodzina <= 0.5\\ngini = 0.5\\nsamples = 117\\nvalue = [58, 59]\\nclass = 1'),\n",
       " Text(104.62500000000001, 132.88, 'Age_dziecko <=15 <= 0.5\\ngini = 0.459\\nsamples = 87\\nvalue = [31, 56]\\nclass = 1'),\n",
       " Text(62.775000000000006, 108.72, 'SibSp_1 <= 0.5\\ngini = 0.5\\nsamples = 44\\nvalue = [22, 22]\\nclass = 0'),\n",
       " Text(41.85000000000001, 84.56, 'Age_ dorosły <=45 <= 0.5\\ngini = 0.48\\nsamples = 35\\nvalue = [14, 21]\\nclass = 1'),\n",
       " Text(25.110000000000003, 60.400000000000006, 'zamężna kobieta <= 0.5\\ngini = 0.436\\nsamples = 28\\nvalue = [9, 19]\\nclass = 1'),\n",
       " Text(16.740000000000002, 36.24000000000001, 'Fare_log_winsor <= -0.939\\ngini = 0.483\\nsamples = 22\\nvalue = [9, 13]\\nclass = 1'),\n",
       " Text(8.370000000000001, 12.079999999999984, 'gini = 0.278\\nsamples = 12\\nvalue = [2, 10]\\nclass = 1'),\n",
       " Text(25.110000000000003, 12.079999999999984, 'gini = 0.42\\nsamples = 10\\nvalue = [7, 3]\\nclass = 0'),\n",
       " Text(33.480000000000004, 36.24000000000001, 'gini = 0.0\\nsamples = 6\\nvalue = [0, 6]\\nclass = 1'),\n",
       " Text(58.59, 60.400000000000006, 'SibSp_3 <= 0.5\\ngini = 0.408\\nsamples = 7\\nvalue = [5, 2]\\nclass = 0'),\n",
       " Text(50.220000000000006, 36.24000000000001, 'gini = 0.278\\nsamples = 6\\nvalue = [5, 1]\\nclass = 0'),\n",
       " Text(66.96000000000001, 36.24000000000001, 'gini = 0.0\\nsamples = 1\\nvalue = [0, 1]\\nclass = 1'),\n",
       " Text(83.70000000000002, 84.56, 'Fare_log_winsor <= -0.939\\ngini = 0.198\\nsamples = 9\\nvalue = [8, 1]\\nclass = 0'),\n",
       " Text(75.33000000000001, 60.400000000000006, 'gini = 0.0\\nsamples = 1\\nvalue = [0, 1]\\nclass = 1'),\n",
       " Text(92.07000000000001, 60.400000000000006, 'gini = 0.0\\nsamples = 8\\nvalue = [8, 0]\\nclass = 0'),\n",
       " Text(146.47500000000002, 108.72, 'No_ppl_on_ticket_2 <= 0.5\\ngini = 0.331\\nsamples = 43\\nvalue = [9, 34]\\nclass = 1'),\n",
       " Text(117.18, 84.56, 'Embarked_S <= 0.5\\ngini = 0.231\\nsamples = 30\\nvalue = [4, 26]\\nclass = 1'),\n",
       " Text(108.81000000000002, 60.400000000000006, 'gini = 0.147\\nsamples = 25\\nvalue = [2, 23]\\nclass = 1'),\n",
       " Text(125.55000000000001, 60.400000000000006, 'Parch_1 <= 0.5\\ngini = 0.48\\nsamples = 5\\nvalue = [2, 3]\\nclass = 1'),\n",
       " Text(117.18, 36.24000000000001, 'gini = 0.0\\nsamples = 2\\nvalue = [2, 0]\\nclass = 0'),\n",
       " Text(133.92000000000002, 36.24000000000001, 'gini = 0.0\\nsamples = 3\\nvalue = [0, 3]\\nclass = 1'),\n",
       " Text(175.77, 84.56, 'Fare_log_winsor <= -0.158\\ngini = 0.473\\nsamples = 13\\nvalue = [5, 8]\\nclass = 1'),\n",
       " Text(159.03000000000003, 60.400000000000006, 'Embarked_S <= 0.5\\ngini = 0.444\\nsamples = 6\\nvalue = [4, 2]\\nclass = 0'),\n",
       " Text(150.66000000000003, 36.24000000000001, 'gini = 0.0\\nsamples = 4\\nvalue = [4, 0]\\nclass = 0'),\n",
       " Text(167.40000000000003, 36.24000000000001, 'gini = 0.0\\nsamples = 2\\nvalue = [0, 2]\\nclass = 1'),\n",
       " Text(192.51000000000002, 60.400000000000006, 'Fare_log_winsor <= 0.319\\ngini = 0.245\\nsamples = 7\\nvalue = [1, 6]\\nclass = 1'),\n",
       " Text(184.14000000000001, 36.24000000000001, 'gini = 0.0\\nsamples = 6\\nvalue = [0, 6]\\nclass = 1'),\n",
       " Text(200.88000000000002, 36.24000000000001, 'gini = 0.0\\nsamples = 1\\nvalue = [1, 0]\\nclass = 0'),\n",
       " Text(171.585, 132.88, 'Fare_log_winsor <= -0.367\\ngini = 0.18\\nsamples = 30\\nvalue = [27, 3]\\nclass = 0'),\n",
       " Text(163.21500000000003, 108.72, 'gini = 0.0\\nsamples = 1\\nvalue = [0, 1]\\nclass = 1'),\n",
       " Text(179.955, 108.72, 'gini = 0.128\\nsamples = 29\\nvalue = [27, 2]\\nclass = 0'),\n",
       " Text(286.6725, 181.2, 'Cabin_O <= 0.5\\ngini = 0.27\\nsamples = 380\\nvalue = [319, 61]\\nclass = 0'),\n",
       " Text(263.65500000000003, 157.04, 'Cabin_DE <= 0.5\\ngini = 0.491\\nsamples = 60\\nvalue = [34, 26]\\nclass = 0'),\n",
       " Text(242.73000000000002, 132.88, 'Fare_log_winsor <= 0.575\\ngini = 0.456\\nsamples = 37\\nvalue = [24, 13]\\nclass = 0'),\n",
       " Text(234.36, 108.72, 'gini = 0.0\\nsamples = 6\\nvalue = [6, 0]\\nclass = 0'),\n",
       " Text(251.10000000000002, 108.72, 'Fare_log_winsor <= 0.634\\ngini = 0.487\\nsamples = 31\\nvalue = [18, 13]\\nclass = 0'),\n",
       " Text(234.36, 84.56, 'Fare_log_winsor <= 0.605\\ngini = 0.375\\nsamples = 8\\nvalue = [2, 6]\\nclass = 1'),\n",
       " Text(225.99000000000004, 60.400000000000006, 'Age_dziecko <=15 <= 0.5\\ngini = 0.444\\nsamples = 3\\nvalue = [2, 1]\\nclass = 0'),\n",
       " Text(217.62000000000003, 36.24000000000001, 'gini = 0.0\\nsamples = 2\\nvalue = [2, 0]\\nclass = 0'),\n",
       " Text(234.36, 36.24000000000001, 'gini = 0.0\\nsamples = 1\\nvalue = [0, 1]\\nclass = 1'),\n",
       " Text(242.73000000000002, 60.400000000000006, 'gini = 0.0\\nsamples = 5\\nvalue = [0, 5]\\nclass = 1'),\n",
       " Text(267.84000000000003, 84.56, 'Parch_2 <= 0.5\\ngini = 0.423\\nsamples = 23\\nvalue = [16, 7]\\nclass = 0'),\n",
       " Text(259.47, 60.400000000000006, 'gini = 0.397\\nsamples = 22\\nvalue = [16, 6]\\nclass = 0'),\n",
       " Text(276.21000000000004, 60.400000000000006, 'gini = 0.0\\nsamples = 1\\nvalue = [0, 1]\\nclass = 1'),\n",
       " Text(284.58000000000004, 132.88, 'Age_ starszy dorosły i osoby starsze 45+ <= 0.5\\ngini = 0.491\\nsamples = 23\\nvalue = [10, 13]\\nclass = 1'),\n",
       " Text(276.21000000000004, 108.72, 'gini = 0.355\\nsamples = 13\\nvalue = [3, 10]\\nclass = 1'),\n",
       " Text(292.95000000000005, 108.72, 'Embarked_S <= 0.5\\ngini = 0.42\\nsamples = 10\\nvalue = [7, 3]\\nclass = 0'),\n",
       " Text(284.58000000000004, 84.56, 'gini = 0.0\\nsamples = 1\\nvalue = [0, 1]\\nclass = 1'),\n",
       " Text(301.32000000000005, 84.56, 'Fare_log_winsor <= 0.685\\ngini = 0.346\\nsamples = 9\\nvalue = [7, 2]\\nclass = 0'),\n",
       " Text(292.95000000000005, 60.400000000000006, 'gini = 0.5\\nsamples = 4\\nvalue = [2, 2]\\nclass = 0'),\n",
       " Text(309.69000000000005, 60.400000000000006, 'gini = 0.0\\nsamples = 5\\nvalue = [5, 0]\\nclass = 0'),\n",
       " Text(309.69000000000005, 157.04, 'No_ppl_on_ticket_3+ <= 0.5\\ngini = 0.195\\nsamples = 320\\nvalue = [285, 35]\\nclass = 0'),\n",
       " Text(301.32000000000005, 132.88, 'gini = 0.18\\nsamples = 310\\nvalue = [279, 31]\\nclass = 0'),\n",
       " Text(318.06000000000006, 132.88, 'Fare_log_winsor <= 1.143\\ngini = 0.48\\nsamples = 10\\nvalue = [6, 4]\\nclass = 0'),\n",
       " Text(309.69000000000005, 108.72, 'gini = 0.0\\nsamples = 5\\nvalue = [5, 0]\\nclass = 0'),\n",
       " Text(326.43000000000006, 108.72, 'gini = 0.32\\nsamples = 5\\nvalue = [1, 4]\\nclass = 1')]"
      ]
     },
     "execution_count": 518,
     "metadata": {},
     "output_type": "execute_result"
    },
    {
     "data": {
      "image/png": "[encoded data removed]",
      "text/plain": [
       "<Figure size 432x288 with 1 Axes>"
      ]
     },
     "metadata": {
      "needs_background": "light"
     },
     "output_type": "display_data"
    }
   ],
   "source": [
    "# rysnek wytrenowanego drzewa\n",
    "tree.plot_tree(tree_tun, \n",
    "                   feature_names=list(X_train.columns),  \n",
    "                   class_names=['0','1'],\n",
    "                   filled=True)"
   ]
  },
  {
   "cell_type": "code",
   "execution_count": 519,
   "metadata": {},
   "outputs": [
    {
     "data": {
      "text/plain": [
       "array([[127,  38],\n",
       "       [ 21,  82]], dtype=int64)"
      ]
     },
     "execution_count": 519,
     "metadata": {},
     "output_type": "execute_result"
    }
   ],
   "source": [
    "confusion_matrix(y_test, tun_tree_pred)"
   ]
  },
  {
   "cell_type": "code",
   "execution_count": null,
   "metadata": {},
   "outputs": [],
   "source": []
  },
  {
   "cell_type": "code",
   "execution_count": 520,
   "metadata": {},
   "outputs": [],
   "source": [
    "# random forest"
   ]
  },
  {
   "cell_type": "code",
   "execution_count": 521,
   "metadata": {},
   "outputs": [
    {
     "name": "stdout",
     "output_type": "stream",
     "text": [
      "Fitting 3 folds for each of 500 candidates, totalling 1500 fits\n"
     ]
    },
    {
     "name": "stderr",
     "output_type": "stream",
     "text": [
      "[Parallel(n_jobs=-1)]: Using backend LokyBackend with 8 concurrent workers.\n",
      "[Parallel(n_jobs=-1)]: Done  34 tasks      | elapsed:   13.3s\n",
      "[Parallel(n_jobs=-1)]: Done 184 tasks      | elapsed:   54.2s\n",
      "[Parallel(n_jobs=-1)]: Done 434 tasks      | elapsed:  2.1min\n",
      "[Parallel(n_jobs=-1)]: Done 784 tasks      | elapsed:  4.1min\n",
      "[Parallel(n_jobs=-1)]: Done 1234 tasks      | elapsed:  6.4min\n",
      "[Parallel(n_jobs=-1)]: Done 1500 out of 1500 | elapsed:  7.7min finished\n"
     ]
    },
    {
     "data": {
      "text/plain": [
       "GridSearchCV(cv=3, error_score=nan,\n",
       "             estimator=RandomForestClassifier(bootstrap=True, ccp_alpha=0.0,\n",
       "                                              class_weight=None,\n",
       "                                              criterion='gini', max_depth=None,\n",
       "                                              max_features='auto',\n",
       "                                              max_leaf_nodes=None,\n",
       "                                              max_samples=None,\n",
       "                                              min_impurity_decrease=0.0,\n",
       "                                              min_impurity_split=None,\n",
       "                                              min_samples_leaf=1,\n",
       "                                              min_samples_split=2,\n",
       "                                              min_weight_fraction_leaf=0.0,\n",
       "                                              n_estimators=100, n_jobs=None,\n",
       "                                              oob_score=False, random_state=1,\n",
       "                                              verbose=0, warm_start=False),\n",
       "             iid='deprecated', n_jobs=-1,\n",
       "             param_grid={'max_depth': [5, 8, 15, 25, 30],\n",
       "                         'min_samples_leaf': [1, 2, 5, 10],\n",
       "                         'min_samples_split': [2, 5, 10, 15, 100],\n",
       "                         'n_estimators': [100, 300, 500, 800, 1200]},\n",
       "             pre_dispatch='2*n_jobs', refit=True, return_train_score=False,\n",
       "             scoring=None, verbose=1)"
      ]
     },
     "execution_count": 521,
     "metadata": {},
     "output_type": "execute_result"
    }
   ],
   "source": [
    "las_clas = RandomForestClassifier(random_state = 1)\n",
    "\n",
    "n_estimators = [100, 300, 500, 800, 1200]\n",
    "max_depth = [5, 8, 15, 25, 30]\n",
    "min_samples_split = [2, 5, 10, 15, 100]\n",
    "min_samples_leaf = [1, 2, 5, 10] \n",
    "\n",
    "hyperF = dict(n_estimators = n_estimators, max_depth = max_depth,  \n",
    "              min_samples_split = min_samples_split, \n",
    "             min_samples_leaf = min_samples_leaf)\n",
    "\n",
    "siatka_las = GridSearchCV(las_clas, hyperF, cv = 3, verbose = 1, \n",
    "                      n_jobs = -1)\n",
    "siatka_las.fit(X_train, y_train)"
   ]
  },
  {
   "cell_type": "code",
   "execution_count": 522,
   "metadata": {},
   "outputs": [
    {
     "data": {
      "text/plain": [
       "RandomForestClassifier(bootstrap=True, ccp_alpha=0.0, class_weight=None,\n",
       "                       criterion='gini', max_depth=8, max_features='auto',\n",
       "                       max_leaf_nodes=None, max_samples=None,\n",
       "                       min_impurity_decrease=0.0, min_impurity_split=None,\n",
       "                       min_samples_leaf=1, min_samples_split=2,\n",
       "                       min_weight_fraction_leaf=0.0, n_estimators=300,\n",
       "                       n_jobs=None, oob_score=False, random_state=1, verbose=0,\n",
       "                       warm_start=False)"
      ]
     },
     "execution_count": 522,
     "metadata": {},
     "output_type": "execute_result"
    }
   ],
   "source": [
    "siatka_las.best_estimator_"
   ]
  },
  {
   "cell_type": "code",
   "execution_count": 525,
   "metadata": {},
   "outputs": [],
   "source": [
    "las_clas = RandomForestClassifier(bootstrap=True, ccp_alpha=0.0, class_weight=None,\n",
    "                       criterion='gini', max_depth=8, max_features='auto',\n",
    "                       max_leaf_nodes=None, max_samples=None,\n",
    "                       min_impurity_decrease=0.0, min_impurity_split=None,\n",
    "                       min_samples_leaf=1, min_samples_split=2,\n",
    "                       min_weight_fraction_leaf=0.0, n_estimators=300,\n",
    "                       n_jobs=None, oob_score=False, random_state=1, verbose=0,\n",
    "                       warm_start=False)\n",
    "                                  \n",
    "                                  \n",
    "las_clas.fit(X_train, y_train)\n",
    "las_best_pred = las_clas.predict(X_test)"
   ]
  },
  {
   "cell_type": "code",
   "execution_count": 526,
   "metadata": {},
   "outputs": [
    {
     "name": "stdout",
     "output_type": "stream",
     "text": [
      "precision: 0.7428571428571429\n",
      "recall: 0.7572815533980582\n",
      "accuray: 0.8059701492537313\n",
      "f1 score: 0.8063114306516198\n"
     ]
    }
   ],
   "source": [
    "\n",
    "print('precision: '+str(precision_score(y_test, las_best_pred)))\n",
    "print('recall: '+str(recall_score(y_test, las_best_pred)))\n",
    "print('accuray: '+str(accuracy_score(y_test, las_best_pred)))\n",
    "print('f1 score: '+str(f1_score(y_test, las_best_pred, average='weighted')))"
   ]
  },
  {
   "cell_type": "code",
   "execution_count": 527,
   "metadata": {},
   "outputs": [
    {
     "data": {
      "text/plain": [
       "array([[138,  27],\n",
       "       [ 25,  78]], dtype=int64)"
      ]
     },
     "execution_count": 527,
     "metadata": {},
     "output_type": "execute_result"
    }
   ],
   "source": [
    "confusion_matrix(y_test, las_best_pred)"
   ]
  },
  {
   "cell_type": "code",
   "execution_count": 528,
   "metadata": {},
   "outputs": [
    {
     "data": {
      "text/plain": [
       "Index(['Pclass', 'zamężna kobieta', 'Czy dziecko', 'Fare_log_winsor',\n",
       "       'Sex_female', 'Sex_male', 'Age_ dorosły <=45',\n",
       "       'Age_ młody dorosły <=30', 'Age_ starszy dorosły i osoby starsze 45+',\n",
       "       'Age_dziecko <=15', 'SibSp_0', 'SibSp_1', 'SibSp_2', 'SibSp_3',\n",
       "       'SibSp_4', 'SibSp_8', 'Parch_0', 'Parch_1', 'Parch_2', 'Parch_3',\n",
       "       'Parch_4', 'Parch_5', 'Parch_6', 'Cabin_ABC', 'Cabin_DE', 'Cabin_FG',\n",
       "       'Cabin_O', 'Embarked_C', 'Embarked_OTHER', 'Embarked_Q', 'Embarked_S',\n",
       "       'przedrostek_Master', 'przedrostek_Miss', 'przedrostek_Mr',\n",
       "       'przedrostek_Mrs', 'No_ppl_on_ticket_1', 'No_ppl_on_ticket_2',\n",
       "       'No_ppl_on_ticket_3', 'No_ppl_on_ticket_3+',\n",
       "       'no_fam_members_duza rodzina', 'no_fam_members_mała rodzina',\n",
       "       'no_fam_members_singel'],\n",
       "      dtype='object')"
      ]
     },
     "execution_count": 528,
     "metadata": {},
     "output_type": "execute_result"
    }
   ],
   "source": [
    "X_train.columns"
   ]
  },
  {
   "cell_type": "code",
   "execution_count": 529,
   "metadata": {},
   "outputs": [],
   "source": [
    "# sprawdzam jak las losowy ocenił \"ważność\" cech\n",
    "nazwy_kol = list(X_train.columns)"
   ]
  },
  {
   "cell_type": "code",
   "execution_count": 530,
   "metadata": {},
   "outputs": [],
   "source": [
    "feature_importance_tab = pd.DataFrame(columns = [\"Feature\",\"importance\"])\n",
    "feature_importance_tab_tymcz = feature_importance_tab"
   ]
  },
  {
   "cell_type": "code",
   "execution_count": 531,
   "metadata": {},
   "outputs": [],
   "source": [
    "for i,v in enumerate(las_clas.feature_importances_):\n",
    "    feature_importance_tab_tymcz.loc[0,'importance'] = v\n",
    "    feature_importance_tab_tymcz.loc[0,'Feature'] = nazwy_kol[i]\n",
    "\n",
    "    if i==0:\n",
    "        feature_importance_tab =feature_importance_tab_tymcz\n",
    "    else:\n",
    "        feature_importance_tab = feature_importance_tab.append(feature_importance_tab_tymcz)\n",
    "        "
   ]
  },
  {
   "cell_type": "code",
   "execution_count": 532,
   "metadata": {},
   "outputs": [
    {
     "data": {
      "text/html": [
       "<div>\n",
       "<style scoped>\n",
       "    .dataframe tbody tr th:only-of-type {\n",
       "        vertical-align: middle;\n",
       "    }\n",
       "\n",
       "    .dataframe tbody tr th {\n",
       "        vertical-align: top;\n",
       "    }\n",
       "\n",
       "    .dataframe thead th {\n",
       "        text-align: right;\n",
       "    }\n",
       "</style>\n",
       "<table border=\"1\" class=\"dataframe\">\n",
       "  <thead>\n",
       "    <tr style=\"text-align: right;\">\n",
       "      <th></th>\n",
       "      <th>Feature</th>\n",
       "      <th>importance</th>\n",
       "    </tr>\n",
       "  </thead>\n",
       "  <tbody>\n",
       "    <tr>\n",
       "      <th>0</th>\n",
       "      <td>przedrostek_Mr</td>\n",
       "      <td>0.147343</td>\n",
       "    </tr>\n",
       "    <tr>\n",
       "      <th>0</th>\n",
       "      <td>Fare_log_winsor</td>\n",
       "      <td>0.117576</td>\n",
       "    </tr>\n",
       "    <tr>\n",
       "      <th>0</th>\n",
       "      <td>Sex_female</td>\n",
       "      <td>0.100906</td>\n",
       "    </tr>\n",
       "    <tr>\n",
       "      <th>0</th>\n",
       "      <td>Sex_male</td>\n",
       "      <td>0.0915393</td>\n",
       "    </tr>\n",
       "    <tr>\n",
       "      <th>0</th>\n",
       "      <td>przedrostek_Miss</td>\n",
       "      <td>0.0458084</td>\n",
       "    </tr>\n",
       "    <tr>\n",
       "      <th>0</th>\n",
       "      <td>Cabin_O</td>\n",
       "      <td>0.0408814</td>\n",
       "    </tr>\n",
       "    <tr>\n",
       "      <th>0</th>\n",
       "      <td>przedrostek_Mrs</td>\n",
       "      <td>0.0358816</td>\n",
       "    </tr>\n",
       "    <tr>\n",
       "      <th>0</th>\n",
       "      <td>No_ppl_on_ticket_3+</td>\n",
       "      <td>0.0251106</td>\n",
       "    </tr>\n",
       "    <tr>\n",
       "      <th>0</th>\n",
       "      <td>no_fam_members_duza rodzina</td>\n",
       "      <td>0.0249699</td>\n",
       "    </tr>\n",
       "    <tr>\n",
       "      <th>0</th>\n",
       "      <td>zamężna kobieta</td>\n",
       "      <td>0.0235745</td>\n",
       "    </tr>\n",
       "    <tr>\n",
       "      <th>0</th>\n",
       "      <td>zamężna kobieta</td>\n",
       "      <td>0.0235745</td>\n",
       "    </tr>\n",
       "    <tr>\n",
       "      <th>0</th>\n",
       "      <td>no_fam_members_mała rodzina</td>\n",
       "      <td>0.0206385</td>\n",
       "    </tr>\n",
       "    <tr>\n",
       "      <th>0</th>\n",
       "      <td>Cabin_DE</td>\n",
       "      <td>0.0193262</td>\n",
       "    </tr>\n",
       "    <tr>\n",
       "      <th>0</th>\n",
       "      <td>Age_ dorosły &lt;=45</td>\n",
       "      <td>0.0178576</td>\n",
       "    </tr>\n",
       "    <tr>\n",
       "      <th>0</th>\n",
       "      <td>Embarked_S</td>\n",
       "      <td>0.0155193</td>\n",
       "    </tr>\n",
       "    <tr>\n",
       "      <th>0</th>\n",
       "      <td>No_ppl_on_ticket_2</td>\n",
       "      <td>0.0146834</td>\n",
       "    </tr>\n",
       "    <tr>\n",
       "      <th>0</th>\n",
       "      <td>Age_ młody dorosły &lt;=30</td>\n",
       "      <td>0.0140717</td>\n",
       "    </tr>\n",
       "    <tr>\n",
       "      <th>0</th>\n",
       "      <td>SibSp_1</td>\n",
       "      <td>0.0136185</td>\n",
       "    </tr>\n",
       "    <tr>\n",
       "      <th>0</th>\n",
       "      <td>No_ppl_on_ticket_1</td>\n",
       "      <td>0.0135848</td>\n",
       "    </tr>\n",
       "    <tr>\n",
       "      <th>0</th>\n",
       "      <td>Embarked_C</td>\n",
       "      <td>0.0129879</td>\n",
       "    </tr>\n",
       "    <tr>\n",
       "      <th>0</th>\n",
       "      <td>Parch_0</td>\n",
       "      <td>0.0129461</td>\n",
       "    </tr>\n",
       "    <tr>\n",
       "      <th>0</th>\n",
       "      <td>Cabin_ABC</td>\n",
       "      <td>0.0128324</td>\n",
       "    </tr>\n",
       "    <tr>\n",
       "      <th>0</th>\n",
       "      <td>SibSp_0</td>\n",
       "      <td>0.0120602</td>\n",
       "    </tr>\n",
       "    <tr>\n",
       "      <th>0</th>\n",
       "      <td>Czy dziecko</td>\n",
       "      <td>0.0120179</td>\n",
       "    </tr>\n",
       "    <tr>\n",
       "      <th>0</th>\n",
       "      <td>Age_dziecko &lt;=15</td>\n",
       "      <td>0.0114603</td>\n",
       "    </tr>\n",
       "    <tr>\n",
       "      <th>0</th>\n",
       "      <td>przedrostek_Master</td>\n",
       "      <td>0.0109521</td>\n",
       "    </tr>\n",
       "    <tr>\n",
       "      <th>0</th>\n",
       "      <td>no_fam_members_singel</td>\n",
       "      <td>0.0102959</td>\n",
       "    </tr>\n",
       "    <tr>\n",
       "      <th>0</th>\n",
       "      <td>Age_ starszy dorosły i osoby starsze 45+</td>\n",
       "      <td>0.0100134</td>\n",
       "    </tr>\n",
       "    <tr>\n",
       "      <th>0</th>\n",
       "      <td>Parch_1</td>\n",
       "      <td>0.00842283</td>\n",
       "    </tr>\n",
       "    <tr>\n",
       "      <th>0</th>\n",
       "      <td>No_ppl_on_ticket_3</td>\n",
       "      <td>0.00738736</td>\n",
       "    </tr>\n",
       "    <tr>\n",
       "      <th>0</th>\n",
       "      <td>Parch_2</td>\n",
       "      <td>0.00699537</td>\n",
       "    </tr>\n",
       "    <tr>\n",
       "      <th>0</th>\n",
       "      <td>Embarked_Q</td>\n",
       "      <td>0.00666215</td>\n",
       "    </tr>\n",
       "    <tr>\n",
       "      <th>0</th>\n",
       "      <td>SibSp_3</td>\n",
       "      <td>0.00529914</td>\n",
       "    </tr>\n",
       "    <tr>\n",
       "      <th>0</th>\n",
       "      <td>SibSp_4</td>\n",
       "      <td>0.00449949</td>\n",
       "    </tr>\n",
       "    <tr>\n",
       "      <th>0</th>\n",
       "      <td>SibSp_2</td>\n",
       "      <td>0.0040917</td>\n",
       "    </tr>\n",
       "    <tr>\n",
       "      <th>0</th>\n",
       "      <td>Cabin_FG</td>\n",
       "      <td>0.00284076</td>\n",
       "    </tr>\n",
       "    <tr>\n",
       "      <th>0</th>\n",
       "      <td>Parch_5</td>\n",
       "      <td>0.00194578</td>\n",
       "    </tr>\n",
       "    <tr>\n",
       "      <th>0</th>\n",
       "      <td>Parch_4</td>\n",
       "      <td>0.0015962</td>\n",
       "    </tr>\n",
       "    <tr>\n",
       "      <th>0</th>\n",
       "      <td>Parch_3</td>\n",
       "      <td>0.00129342</td>\n",
       "    </tr>\n",
       "    <tr>\n",
       "      <th>0</th>\n",
       "      <td>Parch_6</td>\n",
       "      <td>0.00126501</td>\n",
       "    </tr>\n",
       "    <tr>\n",
       "      <th>0</th>\n",
       "      <td>SibSp_8</td>\n",
       "      <td>0.000885761</td>\n",
       "    </tr>\n",
       "    <tr>\n",
       "      <th>0</th>\n",
       "      <td>Embarked_OTHER</td>\n",
       "      <td>0.000109249</td>\n",
       "    </tr>\n",
       "  </tbody>\n",
       "</table>\n",
       "</div>"
      ],
      "text/plain": [
       "                                    Feature   importance\n",
       "0                            przedrostek_Mr     0.147343\n",
       "0                           Fare_log_winsor     0.117576\n",
       "0                                Sex_female     0.100906\n",
       "0                                  Sex_male    0.0915393\n",
       "0                          przedrostek_Miss    0.0458084\n",
       "0                                   Cabin_O    0.0408814\n",
       "0                           przedrostek_Mrs    0.0358816\n",
       "0                       No_ppl_on_ticket_3+    0.0251106\n",
       "0               no_fam_members_duza rodzina    0.0249699\n",
       "0                           zamężna kobieta    0.0235745\n",
       "0                           zamężna kobieta    0.0235745\n",
       "0               no_fam_members_mała rodzina    0.0206385\n",
       "0                                  Cabin_DE    0.0193262\n",
       "0                         Age_ dorosły <=45    0.0178576\n",
       "0                                Embarked_S    0.0155193\n",
       "0                        No_ppl_on_ticket_2    0.0146834\n",
       "0                   Age_ młody dorosły <=30    0.0140717\n",
       "0                                   SibSp_1    0.0136185\n",
       "0                        No_ppl_on_ticket_1    0.0135848\n",
       "0                                Embarked_C    0.0129879\n",
       "0                                   Parch_0    0.0129461\n",
       "0                                 Cabin_ABC    0.0128324\n",
       "0                                   SibSp_0    0.0120602\n",
       "0                               Czy dziecko    0.0120179\n",
       "0                          Age_dziecko <=15    0.0114603\n",
       "0                        przedrostek_Master    0.0109521\n",
       "0                     no_fam_members_singel    0.0102959\n",
       "0  Age_ starszy dorosły i osoby starsze 45+    0.0100134\n",
       "0                                   Parch_1   0.00842283\n",
       "0                        No_ppl_on_ticket_3   0.00738736\n",
       "0                                   Parch_2   0.00699537\n",
       "0                                Embarked_Q   0.00666215\n",
       "0                                   SibSp_3   0.00529914\n",
       "0                                   SibSp_4   0.00449949\n",
       "0                                   SibSp_2    0.0040917\n",
       "0                                  Cabin_FG   0.00284076\n",
       "0                                   Parch_5   0.00194578\n",
       "0                                   Parch_4    0.0015962\n",
       "0                                   Parch_3   0.00129342\n",
       "0                                   Parch_6   0.00126501\n",
       "0                                   SibSp_8  0.000885761\n",
       "0                            Embarked_OTHER  0.000109249"
      ]
     },
     "execution_count": 532,
     "metadata": {},
     "output_type": "execute_result"
    }
   ],
   "source": [
    "feature_importance_tab.sort_values(by='importance', ascending=False)"
   ]
  },
  {
   "cell_type": "code",
   "execution_count": null,
   "metadata": {},
   "outputs": [],
   "source": []
  },
  {
   "cell_type": "code",
   "execution_count": 533,
   "metadata": {},
   "outputs": [],
   "source": [
    "# SVM"
   ]
  },
  {
   "cell_type": "code",
   "execution_count": 534,
   "metadata": {},
   "outputs": [],
   "source": [
    "from sklearn.svm import SVC"
   ]
  },
  {
   "cell_type": "code",
   "execution_count": 535,
   "metadata": {},
   "outputs": [],
   "source": [
    "svm_class = SVC(gamma='auto',random_state=1, kernel = 'rbf')\n",
    "svm_class.fit(X_train, y_train)\n",
    "svm_pred = svm_class.predict(X_test)"
   ]
  },
  {
   "cell_type": "code",
   "execution_count": 536,
   "metadata": {},
   "outputs": [
    {
     "name": "stdout",
     "output_type": "stream",
     "text": [
      "precision: 0.7352941176470589\n",
      "recall: 0.7281553398058253\n",
      "accuray: 0.7947761194029851\n",
      "f1 score: 0.7945855792146774\n"
     ]
    }
   ],
   "source": [
    "\n",
    "print('precision: '+str(precision_score(y_test, svm_pred)))\n",
    "print('recall: '+str(recall_score(y_test, svm_pred)))\n",
    "print('accuray: '+str(accuracy_score(y_test, svm_pred)))\n",
    "print('f1 score: '+str(f1_score(y_test, svm_pred, average='weighted')))"
   ]
  },
  {
   "cell_type": "code",
   "execution_count": 537,
   "metadata": {},
   "outputs": [],
   "source": [
    "# xgboost"
   ]
  },
  {
   "cell_type": "code",
   "execution_count": 538,
   "metadata": {},
   "outputs": [],
   "source": [
    "import xgboost as xgb"
   ]
  },
  {
   "cell_type": "code",
   "execution_count": 539,
   "metadata": {},
   "outputs": [],
   "source": [
    "import re\n",
    "regex = re.compile(r\"\\[|\\]|<\", re.IGNORECASE)"
   ]
  },
  {
   "cell_type": "code",
   "execution_count": 540,
   "metadata": {},
   "outputs": [],
   "source": [
    "# wśród nazw kolumn były znaki <>, zmiana wszelkich znaków które wyrzucają błąd w xgboost"
   ]
  },
  {
   "cell_type": "code",
   "execution_count": 541,
   "metadata": {},
   "outputs": [],
   "source": [
    "X_train.columns = [regex.sub(\"_\", col) if any(x in str(col) for x in set(('[', ']', '<'))) else col for col in X_train.columns.values]"
   ]
  },
  {
   "cell_type": "code",
   "execution_count": 542,
   "metadata": {},
   "outputs": [],
   "source": [
    "X_test.columns = [regex.sub(\"_\", col) if any(x in str(col) for x in set(('[', ']', '<'))) else col for col in X_test.columns.values]"
   ]
  },
  {
   "cell_type": "code",
   "execution_count": 543,
   "metadata": {},
   "outputs": [
    {
     "name": "stdout",
     "output_type": "stream",
     "text": [
      "[00:56:09] WARNING: C:/Users/Administrator/workspace/xgboost-win64_release_1.3.0/src/learner.cc:1061: Starting in XGBoost 1.3.0, the default evaluation metric used with the objective 'binary:logistic' was changed from 'error' to 'logloss'. Explicitly set eval_metric if you'd like to restore the old behavior.\n"
     ]
    }
   ],
   "source": [
    "xgbmod = xgb.XGBClassifier(objective=\"binary:logistic\", random_state=32,use_label_encoder=False)\n",
    "xgbmod.fit(X_train, y_train)\n",
    "xgb_pred = xgbmod.predict(X_test)"
   ]
  },
  {
   "cell_type": "code",
   "execution_count": 544,
   "metadata": {},
   "outputs": [
    {
     "name": "stdout",
     "output_type": "stream",
     "text": [
      "precision: 0.7281553398058253\n",
      "recall: 0.7281553398058253\n",
      "accuray: 0.7910447761194029\n",
      "f1 score: 0.7910447761194029\n"
     ]
    }
   ],
   "source": [
    "print('precision: '+str(precision_score(y_test, xgb_pred)))\n",
    "print('recall: '+str(recall_score(y_test, xgb_pred)))\n",
    "print('accuray: '+str(accuracy_score(y_test, xgb_pred)))\n",
    "print('f1 score: '+str(f1_score(y_test, xgb_pred, average='weighted')))"
   ]
  },
  {
   "cell_type": "code",
   "execution_count": null,
   "metadata": {},
   "outputs": [],
   "source": []
  },
  {
   "cell_type": "code",
   "execution_count": 545,
   "metadata": {},
   "outputs": [],
   "source": [
    "# sieć neuronowa"
   ]
  },
  {
   "cell_type": "code",
   "execution_count": 546,
   "metadata": {},
   "outputs": [],
   "source": [
    "from sklearn.neural_network import MLPClassifier\n",
    "mlp = MLPClassifier(max_iter=5000, random_state=1)"
   ]
  },
  {
   "cell_type": "code",
   "execution_count": 547,
   "metadata": {},
   "outputs": [],
   "source": [
    "parametry_mlp = {\n",
    "    'hidden_layer_sizes': [(10,20,10),(50,50,50,50), (50,100,100,50),(50,50,50), (50,100,50), (100,)],\n",
    "    'activation': ['identity', 'logistic', 'tanh', 'relu'],\n",
    "    'solver': ['lbfgs','sgd', 'adam'],\n",
    "    'alpha': [0.001, 0.05, 0.1, 0.0005],\n",
    "    'learning_rate': ['constant','adaptive'],\n",
    "}"
   ]
  },
  {
   "cell_type": "code",
   "execution_count": 548,
   "metadata": {},
   "outputs": [
    {
     "data": {
      "text/plain": [
       "GridSearchCV(cv=3, error_score=nan,\n",
       "             estimator=MLPClassifier(activation='relu', alpha=0.0001,\n",
       "                                     batch_size='auto', beta_1=0.9,\n",
       "                                     beta_2=0.999, early_stopping=False,\n",
       "                                     epsilon=1e-08, hidden_layer_sizes=(100,),\n",
       "                                     learning_rate='constant',\n",
       "                                     learning_rate_init=0.001, max_fun=15000,\n",
       "                                     max_iter=5000, momentum=0.9,\n",
       "                                     n_iter_no_change=10,\n",
       "                                     nesterovs_momentum=True, power_t=0.5,\n",
       "                                     random_stat...\n",
       "             iid='deprecated', n_jobs=-1,\n",
       "             param_grid={'activation': ['identity', 'logistic', 'tanh', 'relu'],\n",
       "                         'alpha': [0.001, 0.05, 0.1, 0.0005],\n",
       "                         'hidden_layer_sizes': [(10, 20, 10), (50, 50, 50, 50),\n",
       "                                                (50, 100, 100, 50),\n",
       "                                                (50, 50, 50), (50, 100, 50),\n",
       "                                                (100,)],\n",
       "                         'learning_rate': ['constant', 'adaptive'],\n",
       "                         'solver': ['lbfgs', 'sgd', 'adam']},\n",
       "             pre_dispatch='2*n_jobs', refit=True, return_train_score=False,\n",
       "             scoring=None, verbose=0)"
      ]
     },
     "execution_count": 548,
     "metadata": {},
     "output_type": "execute_result"
    }
   ],
   "source": [
    "mlp_classifier_grid = GridSearchCV(mlp, parametry_mlp, n_jobs=-1, cv=3)\n",
    "mlp_classifier_grid.fit(X_train, y_train)"
   ]
  },
  {
   "cell_type": "code",
   "execution_count": 549,
   "metadata": {},
   "outputs": [
    {
     "data": {
      "text/plain": [
       "MLPClassifier(activation='logistic', alpha=0.001, batch_size='auto', beta_1=0.9,\n",
       "              beta_2=0.999, early_stopping=False, epsilon=1e-08,\n",
       "              hidden_layer_sizes=(100,), learning_rate='constant',\n",
       "              learning_rate_init=0.001, max_fun=15000, max_iter=5000,\n",
       "              momentum=0.9, n_iter_no_change=10, nesterovs_momentum=True,\n",
       "              power_t=0.5, random_state=1, shuffle=True, solver='adam',\n",
       "              tol=0.0001, validation_fraction=0.1, verbose=False,\n",
       "              warm_start=False)"
      ]
     },
     "execution_count": 549,
     "metadata": {},
     "output_type": "execute_result"
    }
   ],
   "source": [
    "mlp_classifier_grid.best_estimator_"
   ]
  },
  {
   "cell_type": "code",
   "execution_count": 550,
   "metadata": {},
   "outputs": [],
   "source": [
    "mlp_best = MLPClassifier( activation='logistic', alpha=0.001, batch_size='auto', beta_1=0.9,\n",
    "              beta_2=0.999, early_stopping=False, epsilon=1e-08,\n",
    "              hidden_layer_sizes=(100,), learning_rate='constant',\n",
    "              learning_rate_init=0.001, max_fun=15000, max_iter=5000,\n",
    "              momentum=0.9, n_iter_no_change=10, nesterovs_momentum=True,\n",
    "              power_t=0.5, random_state=1, shuffle=True, solver='adam',\n",
    "              tol=0.0001, validation_fraction=0.1, verbose=False,\n",
    "              warm_start=False)\n",
    "mlp_best.fit(X_train, y_train)\n",
    "mlp_predict = mlp_classifier_grid.predict(X_test)"
   ]
  },
  {
   "cell_type": "code",
   "execution_count": 551,
   "metadata": {},
   "outputs": [
    {
     "name": "stdout",
     "output_type": "stream",
     "text": [
      "precision: 0.71875\n",
      "recall: 0.6699029126213593\n",
      "accuray: 0.7723880597014925\n",
      "f1 score: 0.7707487568494851\n"
     ]
    }
   ],
   "source": [
    "print('precision: '+str(precision_score(y_test, mlp_predict)))\n",
    "print('recall: '+str(recall_score(y_test, mlp_predict)))\n",
    "print('accuray: '+str(accuracy_score(y_test, mlp_predict)))\n",
    "print('f1 score: '+str(f1_score(y_test, mlp_predict, average='weighted')))"
   ]
  },
  {
   "cell_type": "code",
   "execution_count": null,
   "metadata": {},
   "outputs": [],
   "source": [
    "# zmiany na zbiorze test do utworznia prognozy do kaggle"
   ]
  },
  {
   "cell_type": "code",
   "execution_count": 552,
   "metadata": {},
   "outputs": [],
   "source": [
    "test_fin = pd.read_csv('titanic_test.csv')"
   ]
  },
  {
   "cell_type": "code",
   "execution_count": 553,
   "metadata": {},
   "outputs": [],
   "source": [
    "test_fin['nazwisko'] = test_fin.apply(lambda x: x['Name'][:x['Name'].index(',')], axis=1)\n",
    "test_fin['przedrostek'] = test_fin.apply(lambda x: x['Name'][x['Name'].index(',')+2:x['Name'].index('.')], axis=1)\n",
    "test_fin['przedrostek'] = test_fin.apply(zamiana_przedostków, axis=1)\n",
    "test_fin['zamężna kobieta'] = test_fin.apply( lambda x: 1 if x['przedrostek'] == 'Mrs' else 0, axis=1)\n",
    "\n",
    "test_fin = test_fin.drop(columns=['nazwisko','Name'])\n",
    "\n",
    "test_fin.loc[:,'Czy dziecko'] = test_fin.apply(lambda x: 1 if x['Age']<18 else 0 , axis=1)\n",
    "test_fin['No_ppl_on_ticket'] = test_fin.groupby(['Ticket'])['Ticket'].transform('count')\n",
    "test_fin['No_ppl_on_ticket'] = test_fin['No_ppl_on_ticket'].astype('object')\n",
    "test_fin['No_ppl_on_ticket'] = test_fin.apply(liczba_osob_na_bil, axis=1)\n",
    "\n",
    "test_fin.drop(columns=['PassengerId'], inplace = True)\n",
    "\n",
    "\n",
    "test_fin.loc[:,'Parch'] = test_fin.loc[:,'Parch'].astype('object')\n",
    "test_fin.loc[:,'Pclass'] = test_fin.loc[:,'Pclass'].astype('object')\n",
    "test_fin.loc[:,'SibSp'] = test_fin.loc[:,'SibSp'].astype('object')\n",
    "\n",
    "test_fin['Cabin'].fillna('OTHER', inplace=True)\n",
    "test_fin['Embarked'].fillna('OTHER', inplace = True)\n",
    "\n",
    "test_fin['Cabin'] = test_fin['Cabin'].str[:1]\n",
    "test_fin['Cabin'] = test_fin.apply(group_cab, axis=1)\n",
    "test_fin['Age'] = test_fin.groupby(['Pclass','Cabin'])['Age'].transform(lambda x: x.fillna(x.mean()))\n",
    "test_fin['Age'] = test_fin.apply(age_binning, axis=1)"
   ]
  },
  {
   "cell_type": "code",
   "execution_count": 554,
   "metadata": {},
   "outputs": [],
   "source": [
    "test_fin['Fare_log'] = np.log(test_fin['Fare']+0.1)\n",
    "\n",
    "def Fare_log_winsor(x):\n",
    "    if x['Fare_log'] < np.percentile(test_fin['Fare_log'],5):\n",
    "        return np.percentile(test_fin['Fare_log'],5)\n",
    "    elif x['Fare_log'] > np.percentile(test_fin['Fare_log'],95):\n",
    "        return np.percentile(test_fin['Fare_log'],95)\n",
    "    else:\n",
    "        return x['Fare_log']\n",
    "\n",
    "test_fin['Fare_log_winsor'] = test_fin.apply(Fare_log_winsor, axis=1)\n",
    "test_fin['no_fam_members'] = test_fin['SibSp']+test_fin['Parch']+1\n",
    "\n",
    "test_fin['no_fam_members'] = test_fin['no_fam_members'].astype('object')\n",
    "\n",
    "test_fin['no_fam_members'] = test_fin.apply(wielkosc_rodziny, axis=1)\n",
    "\n",
    "test_fin = test_fin.drop(columns = ['Ticket'])\n",
    "test_fin = test_fin.drop(columns=['Fare','Fare_log'])"
   ]
  },
  {
   "cell_type": "code",
   "execution_count": 555,
   "metadata": {},
   "outputs": [
    {
     "data": {
      "text/plain": [
       "Index(['Pclass', 'Sex', 'Age', 'SibSp', 'Parch', 'Cabin', 'Embarked',\n",
       "       'przedrostek', 'zamężna kobieta', 'Czy dziecko', 'No_ppl_on_ticket',\n",
       "       'Fare_log_winsor', 'no_fam_members'],\n",
       "      dtype='object')"
      ]
     },
     "execution_count": 555,
     "metadata": {},
     "output_type": "execute_result"
    }
   ],
   "source": [
    "test_fin.columns"
   ]
  },
  {
   "cell_type": "code",
   "execution_count": 556,
   "metadata": {},
   "outputs": [
    {
     "data": {
      "text/plain": [
       "Index(['Pclass', 'zamężna kobieta', 'Czy dziecko', 'Fare_log_winsor',\n",
       "       'Sex_female', 'Sex_male', 'Age_ dorosły _=45',\n",
       "       'Age_ młody dorosły _=30', 'Age_ starszy dorosły i osoby starsze 45+',\n",
       "       'Age_dziecko _=15', 'SibSp_0', 'SibSp_1', 'SibSp_2', 'SibSp_3',\n",
       "       'SibSp_4', 'SibSp_8', 'Parch_0', 'Parch_1', 'Parch_2', 'Parch_3',\n",
       "       'Parch_4', 'Parch_5', 'Parch_6', 'Cabin_ABC', 'Cabin_DE', 'Cabin_FG',\n",
       "       'Cabin_O', 'Embarked_C', 'Embarked_OTHER', 'Embarked_Q', 'Embarked_S',\n",
       "       'przedrostek_Master', 'przedrostek_Miss', 'przedrostek_Mr',\n",
       "       'przedrostek_Mrs', 'No_ppl_on_ticket_1', 'No_ppl_on_ticket_2',\n",
       "       'No_ppl_on_ticket_3', 'No_ppl_on_ticket_3+',\n",
       "       'no_fam_members_duza rodzina', 'no_fam_members_mała rodzina',\n",
       "       'no_fam_members_singel'],\n",
       "      dtype='object')"
      ]
     },
     "execution_count": 556,
     "metadata": {},
     "output_type": "execute_result"
    }
   ],
   "source": [
    "X_train.columns"
   ]
  },
  {
   "cell_type": "code",
   "execution_count": 557,
   "metadata": {},
   "outputs": [],
   "source": [
    "test_fin[['Fare_log_winsor']] = StandardScaler().fit_transform(test_fin[['Fare_log_winsor']])\n",
    "test_fin = pd.concat([test_fin, pd.get_dummies(test_fin[list(test_fin.select_dtypes('object').columns)])], axis=1) \n",
    "test_fin = test_fin.drop(columns= list(test_fin.select_dtypes('object').columns))"
   ]
  },
  {
   "cell_type": "code",
   "execution_count": 558,
   "metadata": {},
   "outputs": [],
   "source": [
    "X_train, test_fin = X_train.align(test_fin, join='left', axis=1)\n",
    "test_fin.fillna(0, inplace=True)"
   ]
  },
  {
   "cell_type": "code",
   "execution_count": 559,
   "metadata": {},
   "outputs": [
    {
     "data": {
      "text/plain": [
       "Index(['Pclass', 'zamężna kobieta', 'Czy dziecko', 'Fare_log_winsor',\n",
       "       'Sex_female', 'Sex_male', 'Age_ dorosły _=45',\n",
       "       'Age_ młody dorosły _=30', 'Age_ starszy dorosły i osoby starsze 45+',\n",
       "       'Age_dziecko _=15', 'SibSp_0', 'SibSp_1', 'SibSp_2', 'SibSp_3',\n",
       "       'SibSp_4', 'SibSp_8', 'Parch_0', 'Parch_1', 'Parch_2', 'Parch_3',\n",
       "       'Parch_4', 'Parch_5', 'Parch_6', 'Cabin_ABC', 'Cabin_DE', 'Cabin_FG',\n",
       "       'Cabin_O', 'Embarked_C', 'Embarked_OTHER', 'Embarked_Q', 'Embarked_S',\n",
       "       'przedrostek_Master', 'przedrostek_Miss', 'przedrostek_Mr',\n",
       "       'przedrostek_Mrs', 'No_ppl_on_ticket_1', 'No_ppl_on_ticket_2',\n",
       "       'No_ppl_on_ticket_3', 'No_ppl_on_ticket_3+',\n",
       "       'no_fam_members_duza rodzina', 'no_fam_members_mała rodzina',\n",
       "       'no_fam_members_singel'],\n",
       "      dtype='object')"
      ]
     },
     "execution_count": 559,
     "metadata": {},
     "output_type": "execute_result"
    }
   ],
   "source": [
    "test_fin.columns"
   ]
  },
  {
   "cell_type": "code",
   "execution_count": 560,
   "metadata": {},
   "outputs": [
    {
     "data": {
      "text/plain": [
       "Index(['Pclass', 'zamężna kobieta', 'Czy dziecko', 'Fare_log_winsor',\n",
       "       'Sex_female', 'Sex_male', 'Age_ dorosły _=45',\n",
       "       'Age_ młody dorosły _=30', 'Age_ starszy dorosły i osoby starsze 45+',\n",
       "       'Age_dziecko _=15', 'SibSp_0', 'SibSp_1', 'SibSp_2', 'SibSp_3',\n",
       "       'SibSp_4', 'SibSp_8', 'Parch_0', 'Parch_1', 'Parch_2', 'Parch_3',\n",
       "       'Parch_4', 'Parch_5', 'Parch_6', 'Cabin_ABC', 'Cabin_DE', 'Cabin_FG',\n",
       "       'Cabin_O', 'Embarked_C', 'Embarked_OTHER', 'Embarked_Q', 'Embarked_S',\n",
       "       'przedrostek_Master', 'przedrostek_Miss', 'przedrostek_Mr',\n",
       "       'przedrostek_Mrs', 'No_ppl_on_ticket_1', 'No_ppl_on_ticket_2',\n",
       "       'No_ppl_on_ticket_3', 'No_ppl_on_ticket_3+',\n",
       "       'no_fam_members_duza rodzina', 'no_fam_members_mała rodzina',\n",
       "       'no_fam_members_singel'],\n",
       "      dtype='object')"
      ]
     },
     "execution_count": 560,
     "metadata": {},
     "output_type": "execute_result"
    }
   ],
   "source": [
    "X_train.columns"
   ]
  },
  {
   "cell_type": "code",
   "execution_count": 561,
   "metadata": {},
   "outputs": [],
   "source": [
    "las_best_pred_fin = las_clas.predict(test_fin)"
   ]
  },
  {
   "cell_type": "code",
   "execution_count": 562,
   "metadata": {},
   "outputs": [
    {
     "data": {
      "text/plain": [
       "array([0, 1, 0, 0, 1, 0, 1, 0, 1, 0, 0, 0, 1, 0, 1, 1, 0, 0, 1, 1, 0, 1,\n",
       "       1, 0, 1, 0, 1, 0, 0, 0, 0, 0, 1, 1, 1, 0, 1, 1, 0, 0, 0, 0, 0, 1,\n",
       "       1, 0, 0, 0, 1, 1, 0, 0, 1, 1, 0, 0, 0, 0, 0, 1, 0, 0, 0, 1, 1, 1,\n",
       "       1, 0, 0, 1, 1, 0, 1, 0, 1, 0, 0, 1, 0, 1, 1, 0, 0, 0, 0, 0, 1, 1,\n",
       "       1, 1, 1, 0, 1, 0, 0, 0, 1, 0, 1, 0, 1, 0, 0, 0, 1, 0, 0, 0, 0, 0,\n",
       "       0, 1, 1, 1, 1, 0, 0, 1, 0, 1, 1, 0, 1, 0, 0, 1, 0, 1, 0, 0, 0, 0,\n",
       "       1, 0, 0, 0, 0, 0, 1, 0, 1, 1, 0, 0, 0, 0, 0, 0, 0, 0, 1, 0, 0, 1,\n",
       "       0, 0, 1, 1, 0, 1, 1, 1, 1, 0, 0, 1, 0, 0, 1, 1, 0, 0, 0, 0, 0, 1,\n",
       "       1, 1, 1, 1, 0, 1, 1, 0, 1, 0, 1, 0, 1, 0, 0, 0, 1, 0, 1, 0, 1, 1,\n",
       "       0, 1, 1, 1, 0, 1, 0, 0, 1, 0, 1, 0, 0, 0, 0, 1, 1, 0, 1, 0, 1, 0,\n",
       "       1, 0, 1, 0, 1, 1, 0, 1, 0, 0, 0, 1, 0, 0, 0, 0, 1, 0, 1, 1, 1, 1,\n",
       "       0, 0, 1, 0, 1, 0, 1, 1, 1, 0, 1, 0, 0, 0, 0, 0, 1, 0, 0, 0, 1, 1,\n",
       "       0, 0, 0, 0, 1, 0, 0, 0, 1, 1, 0, 1, 0, 0, 0, 0, 1, 1, 1, 1, 1, 0,\n",
       "       0, 0, 0, 0, 0, 1, 0, 0, 0, 0, 1, 0, 0, 0, 0, 0, 0, 0, 1, 1, 0, 1,\n",
       "       0, 1, 0, 0, 0, 1, 1, 1, 0, 0, 0, 0, 0, 0, 0, 0, 1, 0, 1, 0, 0, 0,\n",
       "       1, 0, 0, 1, 0, 0, 0, 0, 0, 1, 0, 0, 0, 1, 1, 1, 0, 1, 0, 1, 1, 0,\n",
       "       0, 0, 1, 0, 1, 0, 0, 1, 0, 1, 1, 0, 1, 0, 0, 1, 1, 0, 0, 1, 0, 0,\n",
       "       1, 1, 1, 0, 0, 0, 0, 0, 1, 1, 0, 1, 0, 0, 0, 0, 0, 1, 1, 0, 0, 1,\n",
       "       0, 1, 0, 0, 1, 0, 1, 0, 0, 0, 0, 0, 1, 1, 1, 1, 1, 0, 1, 0, 0, 1],\n",
       "      dtype=int64)"
      ]
     },
     "execution_count": 562,
     "metadata": {},
     "output_type": "execute_result"
    }
   ],
   "source": [
    "las_best_pred_fin"
   ]
  },
  {
   "cell_type": "code",
   "execution_count": 563,
   "metadata": {},
   "outputs": [
    {
     "name": "stderr",
     "output_type": "stream",
     "text": [
      "C:\\Python37\\lib\\site-packages\\ipykernel_launcher.py:3: SettingWithCopyWarning: \n",
      "A value is trying to be set on a copy of a slice from a DataFrame.\n",
      "Try using .loc[row_indexer,col_indexer] = value instead\n",
      "\n",
      "See the caveats in the documentation: https://pandas.pydata.org/pandas-docs/stable/user_guide/indexing.html#returning-a-view-versus-a-copy\n",
      "  This is separate from the ipykernel package so we can avoid doing imports until\n"
     ]
    }
   ],
   "source": [
    "test_fin = pd.read_csv('titanic_test.csv')\n",
    "test_fin_pred = test_fin[['PassengerId']]\n",
    "test_fin_pred['Survived'] = las_best_pred_fin\n",
    "test_fin_pred.to_csv('final_pred.csv')"
   ]
  },
  {
   "cell_type": "code",
   "execution_count": null,
   "metadata": {},
   "outputs": [],
   "source": []
  },
  {
   "cell_type": "code",
   "execution_count": null,
   "metadata": {},
   "outputs": [],
   "source": []
  }
 ],
 "metadata": {
  "kernelspec": {
   "display_name": "Python 3",
   "language": "python",
   "name": "python3"
  },
  "language_info": {
   "codemirror_mode": {
    "name": "ipython",
    "version": 3
   },
   "file_extension": ".py",
   "mimetype": "text/x-python",
   "name": "python",
   "nbconvert_exporter": "python",
   "pygments_lexer": "ipython3",
   "version": "3.7.3"
  }
 },
 "nbformat": 4,
 "nbformat_minor": 2
}
